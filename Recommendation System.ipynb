{
 "cells": [
  {
   "cell_type": "code",
   "execution_count": 1,
   "id": "fce0e352",
   "metadata": {},
   "outputs": [],
   "source": [
    "import pandas as pd\n",
    "import numpy as np\n",
    "import seaborn as sns\n",
    "import matplotlib.pyplot as plt"
   ]
  },
  {
   "cell_type": "code",
   "execution_count": 2,
   "id": "597ca15d",
   "metadata": {},
   "outputs": [
    {
     "data": {
      "text/html": [
       "<div>\n",
       "<style scoped>\n",
       "    .dataframe tbody tr th:only-of-type {\n",
       "        vertical-align: middle;\n",
       "    }\n",
       "\n",
       "    .dataframe tbody tr th {\n",
       "        vertical-align: top;\n",
       "    }\n",
       "\n",
       "    .dataframe thead th {\n",
       "        text-align: right;\n",
       "    }\n",
       "</style>\n",
       "<table border=\"1\" class=\"dataframe\">\n",
       "  <thead>\n",
       "    <tr style=\"text-align: right;\">\n",
       "      <th></th>\n",
       "      <th>timestamp</th>\n",
       "      <th>itemid</th>\n",
       "      <th>property</th>\n",
       "      <th>value</th>\n",
       "    </tr>\n",
       "  </thead>\n",
       "  <tbody>\n",
       "    <tr>\n",
       "      <th>0</th>\n",
       "      <td>1.435460e+12</td>\n",
       "      <td>460429</td>\n",
       "      <td>categoryid</td>\n",
       "      <td>1338</td>\n",
       "    </tr>\n",
       "    <tr>\n",
       "      <th>1</th>\n",
       "      <td>1.441510e+12</td>\n",
       "      <td>206783</td>\n",
       "      <td>888</td>\n",
       "      <td>1116713 960601 n277.200</td>\n",
       "    </tr>\n",
       "    <tr>\n",
       "      <th>2</th>\n",
       "      <td>1.439090e+12</td>\n",
       "      <td>395014</td>\n",
       "      <td>400</td>\n",
       "      <td>n552.000 639502 n720.000 424566</td>\n",
       "    </tr>\n",
       "    <tr>\n",
       "      <th>3</th>\n",
       "      <td>1.431230e+12</td>\n",
       "      <td>59481</td>\n",
       "      <td>790</td>\n",
       "      <td>n15360.000</td>\n",
       "    </tr>\n",
       "    <tr>\n",
       "      <th>4</th>\n",
       "      <td>1.431830e+12</td>\n",
       "      <td>156781</td>\n",
       "      <td>917</td>\n",
       "      <td>828513</td>\n",
       "    </tr>\n",
       "  </tbody>\n",
       "</table>\n",
       "</div>"
      ],
      "text/plain": [
       "      timestamp  itemid    property                            value\n",
       "0  1.435460e+12  460429  categoryid                             1338\n",
       "1  1.441510e+12  206783         888          1116713 960601 n277.200\n",
       "2  1.439090e+12  395014         400  n552.000 639502 n720.000 424566\n",
       "3  1.431230e+12   59481         790                       n15360.000\n",
       "4  1.431830e+12  156781         917                           828513"
      ]
     },
     "execution_count": 2,
     "metadata": {},
     "output_type": "execute_result"
    }
   ],
   "source": [
    "#load data item_proprties_part1 and item_proprties_part2 and concatenate them into one dataset\n",
    "df_item_properties_part1 = pd.read_csv('item_properties_part1.1.csv', index_col=None)\n",
    "df_item_properties_part2 = pd.read_csv('item_properties_part2.csv', index_col=None)\n",
    "df_item_properties = pd.concat([df_item_properties_part1, df_item_properties_part2], ignore_index=True)\n",
    "df_item_properties.head()"
   ]
  },
  {
   "cell_type": "code",
   "execution_count": 3,
   "id": "40c62fe1",
   "metadata": {},
   "outputs": [
    {
     "data": {
      "text/html": [
       "<div>\n",
       "<style scoped>\n",
       "    .dataframe tbody tr th:only-of-type {\n",
       "        vertical-align: middle;\n",
       "    }\n",
       "\n",
       "    .dataframe tbody tr th {\n",
       "        vertical-align: top;\n",
       "    }\n",
       "\n",
       "    .dataframe thead th {\n",
       "        text-align: right;\n",
       "    }\n",
       "</style>\n",
       "<table border=\"1\" class=\"dataframe\">\n",
       "  <thead>\n",
       "    <tr style=\"text-align: right;\">\n",
       "      <th></th>\n",
       "      <th>timestamp</th>\n",
       "      <th>visitorid</th>\n",
       "      <th>event</th>\n",
       "      <th>itemid</th>\n",
       "      <th>transactionid</th>\n",
       "    </tr>\n",
       "  </thead>\n",
       "  <tbody>\n",
       "    <tr>\n",
       "      <th>0</th>\n",
       "      <td>1.433220e+12</td>\n",
       "      <td>257597</td>\n",
       "      <td>view</td>\n",
       "      <td>355908</td>\n",
       "      <td>NaN</td>\n",
       "    </tr>\n",
       "    <tr>\n",
       "      <th>1</th>\n",
       "      <td>1.433220e+12</td>\n",
       "      <td>992329</td>\n",
       "      <td>view</td>\n",
       "      <td>248676</td>\n",
       "      <td>NaN</td>\n",
       "    </tr>\n",
       "    <tr>\n",
       "      <th>2</th>\n",
       "      <td>1.433220e+12</td>\n",
       "      <td>111016</td>\n",
       "      <td>view</td>\n",
       "      <td>318965</td>\n",
       "      <td>NaN</td>\n",
       "    </tr>\n",
       "    <tr>\n",
       "      <th>3</th>\n",
       "      <td>1.433220e+12</td>\n",
       "      <td>483717</td>\n",
       "      <td>view</td>\n",
       "      <td>253185</td>\n",
       "      <td>NaN</td>\n",
       "    </tr>\n",
       "    <tr>\n",
       "      <th>4</th>\n",
       "      <td>1.433220e+12</td>\n",
       "      <td>951259</td>\n",
       "      <td>view</td>\n",
       "      <td>367447</td>\n",
       "      <td>NaN</td>\n",
       "    </tr>\n",
       "  </tbody>\n",
       "</table>\n",
       "</div>"
      ],
      "text/plain": [
       "      timestamp  visitorid event  itemid  transactionid\n",
       "0  1.433220e+12     257597  view  355908            NaN\n",
       "1  1.433220e+12     992329  view  248676            NaN\n",
       "2  1.433220e+12     111016  view  318965            NaN\n",
       "3  1.433220e+12     483717  view  253185            NaN\n",
       "4  1.433220e+12     951259  view  367447            NaN"
      ]
     },
     "execution_count": 3,
     "metadata": {},
     "output_type": "execute_result"
    }
   ],
   "source": [
    "# load behaviour events dataset\n",
    "df_events = pd.read_csv('events.csv', index_col=None)\n",
    "df_events.head()"
   ]
  },
  {
   "cell_type": "code",
   "execution_count": 4,
   "id": "61c1e344",
   "metadata": {},
   "outputs": [
    {
     "data": {
      "text/html": [
       "<div>\n",
       "<style scoped>\n",
       "    .dataframe tbody tr th:only-of-type {\n",
       "        vertical-align: middle;\n",
       "    }\n",
       "\n",
       "    .dataframe tbody tr th {\n",
       "        vertical-align: top;\n",
       "    }\n",
       "\n",
       "    .dataframe thead th {\n",
       "        text-align: right;\n",
       "    }\n",
       "</style>\n",
       "<table border=\"1\" class=\"dataframe\">\n",
       "  <thead>\n",
       "    <tr style=\"text-align: right;\">\n",
       "      <th></th>\n",
       "      <th>categoryid</th>\n",
       "      <th>parentid</th>\n",
       "    </tr>\n",
       "  </thead>\n",
       "  <tbody>\n",
       "    <tr>\n",
       "      <th>0</th>\n",
       "      <td>1016</td>\n",
       "      <td>213.0</td>\n",
       "    </tr>\n",
       "    <tr>\n",
       "      <th>1</th>\n",
       "      <td>809</td>\n",
       "      <td>169.0</td>\n",
       "    </tr>\n",
       "    <tr>\n",
       "      <th>2</th>\n",
       "      <td>570</td>\n",
       "      <td>9.0</td>\n",
       "    </tr>\n",
       "    <tr>\n",
       "      <th>3</th>\n",
       "      <td>1691</td>\n",
       "      <td>885.0</td>\n",
       "    </tr>\n",
       "    <tr>\n",
       "      <th>4</th>\n",
       "      <td>536</td>\n",
       "      <td>1691.0</td>\n",
       "    </tr>\n",
       "  </tbody>\n",
       "</table>\n",
       "</div>"
      ],
      "text/plain": [
       "   categoryid  parentid\n",
       "0        1016     213.0\n",
       "1         809     169.0\n",
       "2         570       9.0\n",
       "3        1691     885.0\n",
       "4         536    1691.0"
      ]
     },
     "execution_count": 4,
     "metadata": {},
     "output_type": "execute_result"
    }
   ],
   "source": [
    "# load category tree dataset\n",
    "df_category_tree = pd.read_csv('category_tree.csv')\n",
    "df_category_tree.head()"
   ]
  },
  {
   "cell_type": "code",
   "execution_count": 5,
   "id": "681c7d48",
   "metadata": {},
   "outputs": [
    {
     "data": {
      "text/plain": [
       "(2097150, 4)"
      ]
     },
     "execution_count": 5,
     "metadata": {},
     "output_type": "execute_result"
    }
   ],
   "source": [
    "#shape of the data sets\n",
    "df_item_properties.shape"
   ]
  },
  {
   "cell_type": "code",
   "execution_count": 6,
   "id": "807bf5c8",
   "metadata": {},
   "outputs": [
    {
     "data": {
      "text/plain": [
       "(1048575, 5)"
      ]
     },
     "execution_count": 6,
     "metadata": {},
     "output_type": "execute_result"
    }
   ],
   "source": [
    "df_events.shape"
   ]
  },
  {
   "cell_type": "code",
   "execution_count": 7,
   "id": "b5107d0e",
   "metadata": {},
   "outputs": [
    {
     "data": {
      "text/plain": [
       "(1669, 2)"
      ]
     },
     "execution_count": 7,
     "metadata": {},
     "output_type": "execute_result"
    }
   ],
   "source": [
    "df_category_tree.shape"
   ]
  },
  {
   "cell_type": "markdown",
   "id": "1d4b3a25",
   "metadata": {},
   "source": [
    "### Clean the item_properties dataset"
   ]
  },
  {
   "cell_type": "code",
   "execution_count": 8,
   "id": "0413db1c",
   "metadata": {},
   "outputs": [
    {
     "data": {
      "text/html": [
       "<div>\n",
       "<style scoped>\n",
       "    .dataframe tbody tr th:only-of-type {\n",
       "        vertical-align: middle;\n",
       "    }\n",
       "\n",
       "    .dataframe tbody tr th {\n",
       "        vertical-align: top;\n",
       "    }\n",
       "\n",
       "    .dataframe thead th {\n",
       "        text-align: right;\n",
       "    }\n",
       "</style>\n",
       "<table border=\"1\" class=\"dataframe\">\n",
       "  <thead>\n",
       "    <tr style=\"text-align: right;\">\n",
       "      <th></th>\n",
       "      <th>timestamp</th>\n",
       "      <th>itemid</th>\n",
       "      <th>property</th>\n",
       "      <th>value</th>\n",
       "      <th>decoded_value</th>\n",
       "    </tr>\n",
       "  </thead>\n",
       "  <tbody>\n",
       "    <tr>\n",
       "      <th>0</th>\n",
       "      <td>1.435460e+12</td>\n",
       "      <td>460429</td>\n",
       "      <td>categoryid</td>\n",
       "      <td>1338</td>\n",
       "      <td>1338</td>\n",
       "    </tr>\n",
       "    <tr>\n",
       "      <th>1</th>\n",
       "      <td>1.441510e+12</td>\n",
       "      <td>206783</td>\n",
       "      <td>888</td>\n",
       "      <td>1116713 960601 n277.200</td>\n",
       "      <td>277.2</td>\n",
       "    </tr>\n",
       "    <tr>\n",
       "      <th>2</th>\n",
       "      <td>1.439090e+12</td>\n",
       "      <td>395014</td>\n",
       "      <td>400</td>\n",
       "      <td>n552.000 639502 n720.000 424566</td>\n",
       "      <td>636.0</td>\n",
       "    </tr>\n",
       "    <tr>\n",
       "      <th>3</th>\n",
       "      <td>1.431230e+12</td>\n",
       "      <td>59481</td>\n",
       "      <td>790</td>\n",
       "      <td>n15360.000</td>\n",
       "      <td>15360.0</td>\n",
       "    </tr>\n",
       "    <tr>\n",
       "      <th>4</th>\n",
       "      <td>1.431830e+12</td>\n",
       "      <td>156781</td>\n",
       "      <td>917</td>\n",
       "      <td>828513</td>\n",
       "      <td>NaN</td>\n",
       "    </tr>\n",
       "    <tr>\n",
       "      <th>...</th>\n",
       "      <td>...</td>\n",
       "      <td>...</td>\n",
       "      <td>...</td>\n",
       "      <td>...</td>\n",
       "      <td>...</td>\n",
       "    </tr>\n",
       "    <tr>\n",
       "      <th>2097145</th>\n",
       "      <td>1.438480e+12</td>\n",
       "      <td>375432</td>\n",
       "      <td>categoryid</td>\n",
       "      <td>1561</td>\n",
       "      <td>1561</td>\n",
       "    </tr>\n",
       "    <tr>\n",
       "      <th>2097146</th>\n",
       "      <td>1.433650e+12</td>\n",
       "      <td>31766</td>\n",
       "      <td>888</td>\n",
       "      <td>1194687 550565 877590</td>\n",
       "      <td>NaN</td>\n",
       "    </tr>\n",
       "    <tr>\n",
       "      <th>2097147</th>\n",
       "      <td>1.431230e+12</td>\n",
       "      <td>186906</td>\n",
       "      <td>283</td>\n",
       "      <td>305351 1031524 787418</td>\n",
       "      <td>NaN</td>\n",
       "    </tr>\n",
       "    <tr>\n",
       "      <th>2097148</th>\n",
       "      <td>1.433650e+12</td>\n",
       "      <td>83658</td>\n",
       "      <td>797</td>\n",
       "      <td>115592</td>\n",
       "      <td>NaN</td>\n",
       "    </tr>\n",
       "    <tr>\n",
       "      <th>2097149</th>\n",
       "      <td>1.431830e+12</td>\n",
       "      <td>258103</td>\n",
       "      <td>790</td>\n",
       "      <td>n53760.000</td>\n",
       "      <td>53760.0</td>\n",
       "    </tr>\n",
       "  </tbody>\n",
       "</table>\n",
       "<p>2097150 rows × 5 columns</p>\n",
       "</div>"
      ],
      "text/plain": [
       "            timestamp  itemid    property                            value  \\\n",
       "0        1.435460e+12  460429  categoryid                             1338   \n",
       "1        1.441510e+12  206783         888          1116713 960601 n277.200   \n",
       "2        1.439090e+12  395014         400  n552.000 639502 n720.000 424566   \n",
       "3        1.431230e+12   59481         790                       n15360.000   \n",
       "4        1.431830e+12  156781         917                           828513   \n",
       "...               ...     ...         ...                              ...   \n",
       "2097145  1.438480e+12  375432  categoryid                             1561   \n",
       "2097146  1.433650e+12   31766         888            1194687 550565 877590   \n",
       "2097147  1.431230e+12  186906         283            305351 1031524 787418   \n",
       "2097148  1.433650e+12   83658         797                           115592   \n",
       "2097149  1.431830e+12  258103         790                       n53760.000   \n",
       "\n",
       "        decoded_value  \n",
       "0                1338  \n",
       "1               277.2  \n",
       "2               636.0  \n",
       "3             15360.0  \n",
       "4                 NaN  \n",
       "...               ...  \n",
       "2097145          1561  \n",
       "2097146           NaN  \n",
       "2097147           NaN  \n",
       "2097148           NaN  \n",
       "2097149       53760.0  \n",
       "\n",
       "[2097150 rows x 5 columns]"
      ]
     },
     "execution_count": 8,
     "metadata": {},
     "output_type": "execute_result"
    }
   ],
   "source": [
    "def decode_value(row):\n",
    "    prop = row['property']\n",
    "    val = str(row['value'])\n",
    "\n",
    "    # Rule 1: If property == available\n",
    "    if prop == 'available':\n",
    "        return val\n",
    "    \n",
    "    # Rule 2: If property == categoryid\n",
    "    if prop == 'categoryid':\n",
    "        return val\n",
    "\n",
    "    # Rule 3: Otherwise, extract numbers starting with 'n'\n",
    "    nums = []\n",
    "    for part in val.split():\n",
    "        if part.startswith('n'):\n",
    "            try:\n",
    "                nums.append(float(part[1:]))  # remove 'n' and convert\n",
    "            except ValueError:\n",
    "                pass\n",
    "\n",
    "    if len(nums) == 0:\n",
    "        return np.nan\n",
    "    elif len(nums) == 1:\n",
    "        return nums[0]\n",
    "    else:\n",
    "        return sum(nums) / len(nums)  # average\n",
    "\n",
    "# Apply the function to create the new column\n",
    "df_item_properties['decoded_value'] = df_item_properties.apply(decode_value, axis=1)\n",
    "\n",
    "df_item_properties"
   ]
  },
  {
   "cell_type": "markdown",
   "id": "cb0de33f",
   "metadata": {},
   "source": [
    "### Convert timestamp to human readable format and drop Value column"
   ]
  },
  {
   "cell_type": "code",
   "execution_count": 9,
   "id": "7db5e5eb",
   "metadata": {},
   "outputs": [],
   "source": [
    "df_item_properties['timestamp'] = pd.to_datetime(df_item_properties['timestamp'], unit='ms')"
   ]
  },
  {
   "cell_type": "code",
   "execution_count": 10,
   "id": "97dcd3d8",
   "metadata": {},
   "outputs": [],
   "source": [
    "df_item_properties = df_item_properties.drop(columns=['value'])"
   ]
  },
  {
   "cell_type": "code",
   "execution_count": 11,
   "id": "d76ee4f6",
   "metadata": {},
   "outputs": [
    {
     "data": {
      "text/plain": [
       "(1403957, 4)"
      ]
     },
     "execution_count": 11,
     "metadata": {},
     "output_type": "execute_result"
    }
   ],
   "source": [
    "# sort by timestamp\n",
    "df_item_properties = df_item_properties.sort_values(by='timestamp')\n",
    "df_item_properties = df_item_properties.drop_duplicates(subset=['itemid', 'property'], keep='last')\n",
    "df_item_properties.shape"
   ]
  },
  {
   "cell_type": "markdown",
   "id": "a25befe6",
   "metadata": {},
   "source": [
    "### clean event dataset by making timestamp readable"
   ]
  },
  {
   "cell_type": "code",
   "execution_count": 12,
   "id": "7ae1cebb",
   "metadata": {},
   "outputs": [
    {
     "data": {
      "text/html": [
       "<div>\n",
       "<style scoped>\n",
       "    .dataframe tbody tr th:only-of-type {\n",
       "        vertical-align: middle;\n",
       "    }\n",
       "\n",
       "    .dataframe tbody tr th {\n",
       "        vertical-align: top;\n",
       "    }\n",
       "\n",
       "    .dataframe thead th {\n",
       "        text-align: right;\n",
       "    }\n",
       "</style>\n",
       "<table border=\"1\" class=\"dataframe\">\n",
       "  <thead>\n",
       "    <tr style=\"text-align: right;\">\n",
       "      <th></th>\n",
       "      <th>timestamp</th>\n",
       "      <th>visitorid</th>\n",
       "      <th>event</th>\n",
       "      <th>itemid</th>\n",
       "      <th>transactionid</th>\n",
       "    </tr>\n",
       "  </thead>\n",
       "  <tbody>\n",
       "    <tr>\n",
       "      <th>0</th>\n",
       "      <td>2015-06-02 04:40:00</td>\n",
       "      <td>257597</td>\n",
       "      <td>view</td>\n",
       "      <td>355908</td>\n",
       "      <td>NaN</td>\n",
       "    </tr>\n",
       "    <tr>\n",
       "      <th>1</th>\n",
       "      <td>2015-06-02 04:40:00</td>\n",
       "      <td>992329</td>\n",
       "      <td>view</td>\n",
       "      <td>248676</td>\n",
       "      <td>NaN</td>\n",
       "    </tr>\n",
       "    <tr>\n",
       "      <th>2</th>\n",
       "      <td>2015-06-02 04:40:00</td>\n",
       "      <td>111016</td>\n",
       "      <td>view</td>\n",
       "      <td>318965</td>\n",
       "      <td>NaN</td>\n",
       "    </tr>\n",
       "    <tr>\n",
       "      <th>3</th>\n",
       "      <td>2015-06-02 04:40:00</td>\n",
       "      <td>483717</td>\n",
       "      <td>view</td>\n",
       "      <td>253185</td>\n",
       "      <td>NaN</td>\n",
       "    </tr>\n",
       "    <tr>\n",
       "      <th>4</th>\n",
       "      <td>2015-06-02 04:40:00</td>\n",
       "      <td>951259</td>\n",
       "      <td>view</td>\n",
       "      <td>367447</td>\n",
       "      <td>NaN</td>\n",
       "    </tr>\n",
       "  </tbody>\n",
       "</table>\n",
       "</div>"
      ],
      "text/plain": [
       "            timestamp  visitorid event  itemid  transactionid\n",
       "0 2015-06-02 04:40:00     257597  view  355908            NaN\n",
       "1 2015-06-02 04:40:00     992329  view  248676            NaN\n",
       "2 2015-06-02 04:40:00     111016  view  318965            NaN\n",
       "3 2015-06-02 04:40:00     483717  view  253185            NaN\n",
       "4 2015-06-02 04:40:00     951259  view  367447            NaN"
      ]
     },
     "execution_count": 12,
     "metadata": {},
     "output_type": "execute_result"
    }
   ],
   "source": [
    "# timestamp to readable format\n",
    "df_events['timestamp'] = pd.to_datetime(df_events['timestamp'], unit='ms')\n",
    "df_events.head()"
   ]
  },
  {
   "cell_type": "markdown",
   "id": "dada2c7e",
   "metadata": {},
   "source": [
    "### Clean category tree dataset"
   ]
  },
  {
   "cell_type": "code",
   "execution_count": 13,
   "id": "df7905b4",
   "metadata": {},
   "outputs": [
    {
     "data": {
      "text/html": [
       "<div>\n",
       "<style scoped>\n",
       "    .dataframe tbody tr th:only-of-type {\n",
       "        vertical-align: middle;\n",
       "    }\n",
       "\n",
       "    .dataframe tbody tr th {\n",
       "        vertical-align: top;\n",
       "    }\n",
       "\n",
       "    .dataframe thead th {\n",
       "        text-align: right;\n",
       "    }\n",
       "</style>\n",
       "<table border=\"1\" class=\"dataframe\">\n",
       "  <thead>\n",
       "    <tr style=\"text-align: right;\">\n",
       "      <th></th>\n",
       "      <th>categoryid</th>\n",
       "      <th>parentid</th>\n",
       "      <th>category_path</th>\n",
       "    </tr>\n",
       "  </thead>\n",
       "  <tbody>\n",
       "    <tr>\n",
       "      <th>0</th>\n",
       "      <td>1016</td>\n",
       "      <td>213.0</td>\n",
       "      <td>[1016, 213.0, 1299.0, 1532.0]</td>\n",
       "    </tr>\n",
       "    <tr>\n",
       "      <th>1</th>\n",
       "      <td>809</td>\n",
       "      <td>169.0</td>\n",
       "      <td>[809, 169.0, 1257.0, 395.0]</td>\n",
       "    </tr>\n",
       "    <tr>\n",
       "      <th>2</th>\n",
       "      <td>570</td>\n",
       "      <td>9.0</td>\n",
       "      <td>[570, 9.0, 351.0, 653.0]</td>\n",
       "    </tr>\n",
       "    <tr>\n",
       "      <th>3</th>\n",
       "      <td>1691</td>\n",
       "      <td>885.0</td>\n",
       "      <td>[1691, 885.0, 1579.0]</td>\n",
       "    </tr>\n",
       "    <tr>\n",
       "      <th>4</th>\n",
       "      <td>536</td>\n",
       "      <td>1691.0</td>\n",
       "      <td>[536, 1691.0, 885.0, 1579.0]</td>\n",
       "    </tr>\n",
       "  </tbody>\n",
       "</table>\n",
       "</div>"
      ],
      "text/plain": [
       "   categoryid  parentid                  category_path\n",
       "0        1016     213.0  [1016, 213.0, 1299.0, 1532.0]\n",
       "1         809     169.0    [809, 169.0, 1257.0, 395.0]\n",
       "2         570       9.0       [570, 9.0, 351.0, 653.0]\n",
       "3        1691     885.0          [1691, 885.0, 1579.0]\n",
       "4         536    1691.0   [536, 1691.0, 885.0, 1579.0]"
      ]
     },
     "execution_count": 13,
     "metadata": {},
     "output_type": "execute_result"
    }
   ],
   "source": [
    "parent_map = dict(zip(df_category_tree['categoryid'], df_category_tree['parentid']))\n",
    "\n",
    "# Step 2: Function to recursively get the full path as a list\n",
    "def get_category_path_list(cat_id, parent_map):\n",
    "    path = [cat_id]\n",
    "    while cat_id in parent_map and not pd.isna(parent_map[cat_id]):\n",
    "        cat_id = parent_map[cat_id]\n",
    "        path.append(cat_id)\n",
    "    return path  # Keep as list\n",
    "\n",
    "# Step 3: Apply to each category\n",
    "df_category_tree['category_path'] = df_category_tree['categoryid'].apply(lambda x: get_category_path_list(x, parent_map))\n",
    "\n",
    "df_category_tree.head()"
   ]
  },
  {
   "cell_type": "markdown",
   "id": "b43b96fa",
   "metadata": {},
   "source": [
    "### merge item_properties and event tables"
   ]
  },
  {
   "cell_type": "code",
   "execution_count": 14,
   "id": "ae133b77",
   "metadata": {},
   "outputs": [
    {
     "data": {
      "text/html": [
       "<div>\n",
       "<style scoped>\n",
       "    .dataframe tbody tr th:only-of-type {\n",
       "        vertical-align: middle;\n",
       "    }\n",
       "\n",
       "    .dataframe tbody tr th {\n",
       "        vertical-align: top;\n",
       "    }\n",
       "\n",
       "    .dataframe thead th {\n",
       "        text-align: right;\n",
       "    }\n",
       "</style>\n",
       "<table border=\"1\" class=\"dataframe\">\n",
       "  <thead>\n",
       "    <tr style=\"text-align: right;\">\n",
       "      <th></th>\n",
       "      <th>timestamp_x</th>\n",
       "      <th>itemid</th>\n",
       "      <th>property</th>\n",
       "      <th>decoded_value</th>\n",
       "      <th>timestamp_y</th>\n",
       "      <th>visitorid</th>\n",
       "      <th>event</th>\n",
       "      <th>transactionid</th>\n",
       "    </tr>\n",
       "  </thead>\n",
       "  <tbody>\n",
       "    <tr>\n",
       "      <th>0</th>\n",
       "      <td>2015-05-10 03:53:20</td>\n",
       "      <td>431928</td>\n",
       "      <td>764</td>\n",
       "      <td>NaN</td>\n",
       "      <td>2015-06-06 03:06:40</td>\n",
       "      <td>1144378</td>\n",
       "      <td>view</td>\n",
       "      <td>NaN</td>\n",
       "    </tr>\n",
       "    <tr>\n",
       "      <th>1</th>\n",
       "      <td>2015-05-10 03:53:20</td>\n",
       "      <td>431928</td>\n",
       "      <td>764</td>\n",
       "      <td>NaN</td>\n",
       "      <td>2015-06-06 17:00:00</td>\n",
       "      <td>1128464</td>\n",
       "      <td>view</td>\n",
       "      <td>NaN</td>\n",
       "    </tr>\n",
       "    <tr>\n",
       "      <th>2</th>\n",
       "      <td>2015-05-10 03:53:20</td>\n",
       "      <td>431928</td>\n",
       "      <td>764</td>\n",
       "      <td>NaN</td>\n",
       "      <td>2015-06-07 23:33:20</td>\n",
       "      <td>1156009</td>\n",
       "      <td>view</td>\n",
       "      <td>NaN</td>\n",
       "    </tr>\n",
       "    <tr>\n",
       "      <th>3</th>\n",
       "      <td>2015-05-10 03:53:20</td>\n",
       "      <td>431928</td>\n",
       "      <td>764</td>\n",
       "      <td>NaN</td>\n",
       "      <td>2015-06-07 20:46:40</td>\n",
       "      <td>797613</td>\n",
       "      <td>view</td>\n",
       "      <td>NaN</td>\n",
       "    </tr>\n",
       "    <tr>\n",
       "      <th>4</th>\n",
       "      <td>2015-05-10 03:53:20</td>\n",
       "      <td>431928</td>\n",
       "      <td>764</td>\n",
       "      <td>NaN</td>\n",
       "      <td>2015-06-08 05:06:40</td>\n",
       "      <td>758245</td>\n",
       "      <td>view</td>\n",
       "      <td>NaN</td>\n",
       "    </tr>\n",
       "  </tbody>\n",
       "</table>\n",
       "</div>"
      ],
      "text/plain": [
       "          timestamp_x  itemid property decoded_value         timestamp_y  \\\n",
       "0 2015-05-10 03:53:20  431928      764           NaN 2015-06-06 03:06:40   \n",
       "1 2015-05-10 03:53:20  431928      764           NaN 2015-06-06 17:00:00   \n",
       "2 2015-05-10 03:53:20  431928      764           NaN 2015-06-07 23:33:20   \n",
       "3 2015-05-10 03:53:20  431928      764           NaN 2015-06-07 20:46:40   \n",
       "4 2015-05-10 03:53:20  431928      764           NaN 2015-06-08 05:06:40   \n",
       "\n",
       "   visitorid event  transactionid  \n",
       "0    1144378  view            NaN  \n",
       "1    1128464  view            NaN  \n",
       "2    1156009  view            NaN  \n",
       "3     797613  view            NaN  \n",
       "4     758245  view            NaN  "
      ]
     },
     "execution_count": 14,
     "metadata": {},
     "output_type": "execute_result"
    }
   ],
   "source": [
    "df_props_events = pd.merge(df_item_properties, df_events, on='itemid', how='inner')\n",
    "df_props_events.head()"
   ]
  },
  {
   "cell_type": "code",
   "execution_count": 15,
   "id": "1232f89e",
   "metadata": {},
   "outputs": [
    {
     "data": {
      "text/plain": [
       "(3623547, 8)"
      ]
     },
     "execution_count": 15,
     "metadata": {},
     "output_type": "execute_result"
    }
   ],
   "source": [
    "df_props_events.shape"
   ]
  },
  {
   "cell_type": "code",
   "execution_count": 16,
   "id": "de6c9454",
   "metadata": {},
   "outputs": [
    {
     "name": "stdout",
     "output_type": "stream",
     "text": [
      "<class 'pandas.core.frame.DataFrame'>\n",
      "Int64Index: 3623547 entries, 0 to 3623546\n",
      "Data columns (total 8 columns):\n",
      " #   Column         Dtype         \n",
      "---  ------         -----         \n",
      " 0   timestamp_x    datetime64[ns]\n",
      " 1   itemid         int64         \n",
      " 2   property       object        \n",
      " 3   decoded_value  object        \n",
      " 4   timestamp_y    datetime64[ns]\n",
      " 5   visitorid      int64         \n",
      " 6   event          object        \n",
      " 7   transactionid  float64       \n",
      "dtypes: datetime64[ns](2), float64(1), int64(2), object(3)\n",
      "memory usage: 248.8+ MB\n"
     ]
    }
   ],
   "source": [
    "df_props_events.info()"
   ]
  },
  {
   "cell_type": "code",
   "execution_count": 17,
   "id": "8da80772",
   "metadata": {},
   "outputs": [
    {
     "data": {
      "text/plain": [
       "timestamp_x            0\n",
       "itemid                 0\n",
       "property               0\n",
       "decoded_value    2426005\n",
       "timestamp_y            0\n",
       "visitorid              0\n",
       "event                  0\n",
       "transactionid    3590955\n",
       "dtype: int64"
      ]
     },
     "execution_count": 17,
     "metadata": {},
     "output_type": "execute_result"
    }
   ],
   "source": [
    "df_props_events.isna().sum()"
   ]
  },
  {
   "cell_type": "markdown",
   "id": "26a95c19",
   "metadata": {},
   "source": [
    "### change data types for the following columns; itemid, decoded_value, visitorid, transactionid"
   ]
  },
  {
   "cell_type": "code",
   "execution_count": 18,
   "id": "16b7c6ae",
   "metadata": {},
   "outputs": [
    {
     "name": "stdout",
     "output_type": "stream",
     "text": [
      "<class 'pandas.core.frame.DataFrame'>\n",
      "Int64Index: 3623547 entries, 0 to 3623546\n",
      "Data columns (total 8 columns):\n",
      " #   Column         Dtype         \n",
      "---  ------         -----         \n",
      " 0   timestamp_x    datetime64[ns]\n",
      " 1   itemid         object        \n",
      " 2   property       object        \n",
      " 3   decoded_value  float64       \n",
      " 4   timestamp_y    datetime64[ns]\n",
      " 5   visitorid      object        \n",
      " 6   event          object        \n",
      " 7   transactionid  object        \n",
      "dtypes: datetime64[ns](2), float64(1), object(5)\n",
      "memory usage: 248.8+ MB\n"
     ]
    }
   ],
   "source": [
    "### change decoded_value datatype\n",
    "df_props_events['decoded_value'] = pd.to_numeric(df_props_events['decoded_value'], errors='coerce')\n",
    "df_props_events['itemid'] = df_props_events['itemid'].astype('int64').astype(str)\n",
    "df_props_events['transactionid'] = df_props_events['transactionid'].astype('float64').astype(str)\n",
    "df_props_events['visitorid'] = df_props_events['visitorid'].astype('int64').astype(str)\n",
    "df_props_events.info()"
   ]
  },
  {
   "cell_type": "markdown",
   "id": "f07156f7",
   "metadata": {},
   "source": [
    "## Business Questions"
   ]
  },
  {
   "cell_type": "markdown",
   "id": "d1073b15",
   "metadata": {},
   "source": [
    "### 1. What are the top 10 items that received the most view events ?"
   ]
  },
  {
   "cell_type": "code",
   "execution_count": 19,
   "id": "aaea4ea0",
   "metadata": {},
   "outputs": [],
   "source": [
    "# Filter for 2015 full year and event = 'view'\n",
    "filtered_df_props_events = df_props_events[\n",
    "    (df_props_events['timestamp_y'] >= '2015-01-01') &\n",
    "    (df_props_events['timestamp_y'] <= '2015-12-31') &\n",
    "    (df_props_events['event'] == 'view')\n",
    "]\n",
    "\n",
    "# Group by itemid and count views\n",
    "item_view_counts = (\n",
    "    filtered_df_props_events.groupby('itemid')\n",
    "    .size()\n",
    "    .reset_index(name='view_count')\n",
    ")\n",
    "\n",
    "# Get the top 10\n",
    "top10_items = item_view_counts.sort_values('view_count', ascending=False).head(10)"
   ]
  },
  {
   "cell_type": "code",
   "execution_count": 64,
   "id": "f2c64be1",
   "metadata": {},
   "outputs": [
    {
     "data": {
      "image/png": "[encoded data removed]",
      "text/plain": [
       "<Figure size 720x576 with 1 Axes>"
      ]
     },
     "metadata": {},
     "output_type": "display_data"
    }
   ],
   "source": [
    "sns.set_style(\"darkgrid\")\n",
    "\n",
    "plt.figure(figsize=(10, 8))\n",
    "ax = sns.barplot(\n",
    "    data=top10_items,\n",
    "    x='itemid',\n",
    "    y='view_count',\n",
    "    palette='pastel'\n",
    ")\n",
    "\n",
    "\n",
    "ax.set_ylabel(None)\n",
    "\n",
    "\n",
    "for p in ax.patches:\n",
    "    ax.annotate(\n",
    "        format(p.get_height(), ','),\n",
    "        (p.get_x() + p.get_width() / 2., p.get_height()),\n",
    "        ha='center', va='center',\n",
    "        xytext=(0, 8),\n",
    "        textcoords='offset points',\n",
    "        fontsize=9,\n",
    "        color='black'\n",
    "    )\n",
    "\n",
    "\n",
    "ax.set_xlabel('Item ID')\n",
    "ax.set_title('Top 10 Viewed Items in 2015')\n",
    "plt.xticks(rotation=45)\n",
    "plt.tight_layout()\n",
    "\n",
    "plt.show()"
   ]
  },
  {
   "cell_type": "code",
   "execution_count": 21,
   "id": "cd737ba3",
   "metadata": {},
   "outputs": [
    {
     "data": {
      "text/plain": [
       "array(['view', 'transaction', 'addtocart'], dtype=object)"
      ]
     },
     "execution_count": 21,
     "metadata": {},
     "output_type": "execute_result"
    }
   ],
   "source": [
    "df_props_events['event'].unique()"
   ]
  },
  {
   "cell_type": "markdown",
   "id": "bcd1bb57",
   "metadata": {},
   "source": [
    "### What are the top 10 items that received the most Add to Cart events ?"
   ]
  },
  {
   "cell_type": "code",
   "execution_count": 22,
   "id": "2799f0fa",
   "metadata": {},
   "outputs": [],
   "source": [
    "# Filter for 2015 full year and event = 'addtocart'\n",
    "filtered_df_props_events = df_props_events[\n",
    "    (df_props_events['timestamp_y'] >= '2015-01-01') &\n",
    "    (df_props_events['timestamp_y'] <= '2015-12-31') &\n",
    "    (df_props_events['event'] == 'addtocart')\n",
    "]\n",
    "\n",
    "# Group by itemid and count addtocart\n",
    "item_addtocart_counts = (\n",
    "    filtered_df_props_events.groupby('itemid')\n",
    "    .size()\n",
    "    .reset_index(name='addtocart_count')\n",
    ")\n",
    "\n",
    "# Get the top 10\n",
    "top10_addtocart_items = item_addtocart_counts.sort_values('addtocart_count', ascending=False).head(10)"
   ]
  },
  {
   "cell_type": "code",
   "execution_count": 65,
   "id": "1739acfb",
   "metadata": {},
   "outputs": [
    {
     "data": {
      "image/png": "[encoded data removed]",
      "text/plain": [
       "<Figure size 720x576 with 1 Axes>"
      ]
     },
     "metadata": {},
     "output_type": "display_data"
    }
   ],
   "source": [
    "sns.set_style(\"darkgrid\")\n",
    "\n",
    "plt.figure(figsize=(10, 8))\n",
    "ax = sns.barplot(\n",
    "    data=top10_addtocart_items,\n",
    "    x='itemid',\n",
    "    y='addtocart_count',\n",
    "    palette='pastel'\n",
    ")\n",
    "\n",
    "\n",
    "ax.set_ylabel(None)\n",
    "\n",
    "\n",
    "for p in ax.patches:\n",
    "    ax.annotate(\n",
    "        format(p.get_height(), ','),\n",
    "        (p.get_x() + p.get_width() / 2., p.get_height()),\n",
    "        ha='center', va='center',\n",
    "        xytext=(0, 8),\n",
    "        textcoords='offset points',\n",
    "        fontsize=9,\n",
    "        color='black'\n",
    "    )\n",
    "\n",
    "\n",
    "ax.set_xlabel('Item ID')\n",
    "ax.set_title('Top 10 Add to Cart Items in 2015')\n",
    "plt.xticks(rotation=45)\n",
    "plt.tight_layout()\n",
    "\n",
    "plt.show()"
   ]
  },
  {
   "cell_type": "markdown",
   "id": "13bb7d9d",
   "metadata": {},
   "source": [
    "### What percentage of viewed products (event = view) lead to a purchase (transactionid not null)?"
   ]
  },
  {
   "cell_type": "code",
   "execution_count": 33,
   "id": "85c83091",
   "metadata": {},
   "outputs": [
    {
     "data": {
      "text/html": [
       "<div>\n",
       "<style scoped>\n",
       "    .dataframe tbody tr th:only-of-type {\n",
       "        vertical-align: middle;\n",
       "    }\n",
       "\n",
       "    .dataframe tbody tr th {\n",
       "        vertical-align: top;\n",
       "    }\n",
       "\n",
       "    .dataframe thead th {\n",
       "        text-align: right;\n",
       "    }\n",
       "</style>\n",
       "<table border=\"1\" class=\"dataframe\">\n",
       "  <thead>\n",
       "    <tr style=\"text-align: right;\">\n",
       "      <th></th>\n",
       "      <th>timestamp_x</th>\n",
       "      <th>itemid</th>\n",
       "      <th>property</th>\n",
       "      <th>decoded_value</th>\n",
       "      <th>timestamp_y</th>\n",
       "      <th>visitorid</th>\n",
       "      <th>event</th>\n",
       "      <th>transactionid</th>\n",
       "    </tr>\n",
       "  </thead>\n",
       "  <tbody>\n",
       "    <tr>\n",
       "      <th>0</th>\n",
       "      <td>2015-05-10 03:53:20</td>\n",
       "      <td>431928</td>\n",
       "      <td>764</td>\n",
       "      <td>NaN</td>\n",
       "      <td>2015-06-06 03:06:40</td>\n",
       "      <td>1144378</td>\n",
       "      <td>view</td>\n",
       "      <td>nan</td>\n",
       "    </tr>\n",
       "    <tr>\n",
       "      <th>1</th>\n",
       "      <td>2015-05-10 03:53:20</td>\n",
       "      <td>431928</td>\n",
       "      <td>764</td>\n",
       "      <td>NaN</td>\n",
       "      <td>2015-06-06 17:00:00</td>\n",
       "      <td>1128464</td>\n",
       "      <td>view</td>\n",
       "      <td>nan</td>\n",
       "    </tr>\n",
       "    <tr>\n",
       "      <th>2</th>\n",
       "      <td>2015-05-10 03:53:20</td>\n",
       "      <td>431928</td>\n",
       "      <td>764</td>\n",
       "      <td>NaN</td>\n",
       "      <td>2015-06-07 23:33:20</td>\n",
       "      <td>1156009</td>\n",
       "      <td>view</td>\n",
       "      <td>nan</td>\n",
       "    </tr>\n",
       "    <tr>\n",
       "      <th>3</th>\n",
       "      <td>2015-05-10 03:53:20</td>\n",
       "      <td>431928</td>\n",
       "      <td>764</td>\n",
       "      <td>NaN</td>\n",
       "      <td>2015-06-07 20:46:40</td>\n",
       "      <td>797613</td>\n",
       "      <td>view</td>\n",
       "      <td>nan</td>\n",
       "    </tr>\n",
       "    <tr>\n",
       "      <th>4</th>\n",
       "      <td>2015-05-10 03:53:20</td>\n",
       "      <td>431928</td>\n",
       "      <td>764</td>\n",
       "      <td>NaN</td>\n",
       "      <td>2015-06-08 05:06:40</td>\n",
       "      <td>758245</td>\n",
       "      <td>view</td>\n",
       "      <td>nan</td>\n",
       "    </tr>\n",
       "  </tbody>\n",
       "</table>\n",
       "</div>"
      ],
      "text/plain": [
       "          timestamp_x  itemid property  decoded_value         timestamp_y  \\\n",
       "0 2015-05-10 03:53:20  431928      764            NaN 2015-06-06 03:06:40   \n",
       "1 2015-05-10 03:53:20  431928      764            NaN 2015-06-06 17:00:00   \n",
       "2 2015-05-10 03:53:20  431928      764            NaN 2015-06-07 23:33:20   \n",
       "3 2015-05-10 03:53:20  431928      764            NaN 2015-06-07 20:46:40   \n",
       "4 2015-05-10 03:53:20  431928      764            NaN 2015-06-08 05:06:40   \n",
       "\n",
       "  visitorid event transactionid  \n",
       "0   1144378  view           nan  \n",
       "1   1128464  view           nan  \n",
       "2   1156009  view           nan  \n",
       "3    797613  view           nan  \n",
       "4    758245  view           nan  "
      ]
     },
     "execution_count": 33,
     "metadata": {},
     "output_type": "execute_result"
    }
   ],
   "source": [
    "views = df_props_events[df_props_events['event'] == 'view']\n",
    "views.head()"
   ]
  },
  {
   "cell_type": "code",
   "execution_count": 42,
   "id": "b84dbb2e",
   "metadata": {},
   "outputs": [
    {
     "name": "stderr",
     "output_type": "stream",
     "text": [
      "<ipython-input-42-37584b5c43c0>:1: SettingWithCopyWarning: \n",
      "A value is trying to be set on a copy of a slice from a DataFrame.\n",
      "Try using .loc[row_indexer,col_indexer] = value instead\n",
      "\n",
      "See the caveats in the documentation: https://pandas.pydata.org/pandas-docs/stable/user_guide/indexing.html#returning-a-view-versus-a-copy\n",
      "  views['transactionid'] = views['transactionid'].replace(\"nan\", pd.NA)\n"
     ]
    }
   ],
   "source": [
    "views['transactionid'] = views['transactionid'].replace(\"nan\", pd.NA)"
   ]
  },
  {
   "cell_type": "code",
   "execution_count": 41,
   "id": "ea3266bd",
   "metadata": {},
   "outputs": [
    {
     "data": {
      "text/plain": [
       "3487311"
      ]
     },
     "execution_count": 41,
     "metadata": {},
     "output_type": "execute_result"
    }
   ],
   "source": [
    "total_views = len(views)   # number of unique items viewed\n",
    "# or use len(views) if you want total view *events* (not unique items)\n",
    "total_views"
   ]
  },
  {
   "cell_type": "code",
   "execution_count": 39,
   "id": "d29465db",
   "metadata": {},
   "outputs": [
    {
     "data": {
      "text/plain": [
       "0"
      ]
     },
     "execution_count": 39,
     "metadata": {},
     "output_type": "execute_result"
    }
   ],
   "source": [
    "purchased_views = len(views[views['transactionid'].notnull()])\n",
    "# or use len(...) if you want total events instead of unique items\n",
    "purchased_views"
   ]
  },
  {
   "cell_type": "code",
   "execution_count": 40,
   "id": "84fbb212",
   "metadata": {},
   "outputs": [
    {
     "name": "stdout",
     "output_type": "stream",
     "text": [
      "Conversion rate: 0.00%\n"
     ]
    }
   ],
   "source": [
    "conversion_rate = (purchased_views / total_views) * 100\n",
    "print(f\"Conversion rate: {conversion_rate:.2f}%\")"
   ]
  },
  {
   "cell_type": "markdown",
   "id": "baa1afcb",
   "metadata": {},
   "source": [
    "The analysis shows a 0% conversion rate — meaning none of the products that were viewed (event = view) in the dataset have a corresponding purchase (transactionid not null).\n",
    "\n",
    "This suggests that in the portion of data you analyzed, views are not translating into purchases.\n",
    "\n",
    "Possible explanations include:\n",
    "\n",
    "- Data coverage issue → maybe your dataset only contains view events but not the purchase events.\n",
    "\n",
    "- Real customer behavior → it’s also possible customers looked but did not buy, which would reflect a genuine low conversion."
   ]
  },
  {
   "cell_type": "markdown",
   "id": "90ae7bef",
   "metadata": {},
   "source": [
    "### What proportion of products stop at view, get added to cart, or end up in a transaction?"
   ]
  },
  {
   "cell_type": "code",
   "execution_count": 46,
   "id": "7a02cf11",
   "metadata": {},
   "outputs": [
    {
     "data": {
      "image/png": "[encoded data removed]",
      "text/plain": [
       "<Figure size 432x432 with 1 Axes>"
      ]
     },
     "metadata": {},
     "output_type": "display_data"
    }
   ],
   "source": [
    "# Count events\n",
    "event_counts = df_props_events['event'].value_counts()\n",
    "\n",
    "# Plot pie chart\n",
    "plt.figure(figsize=(6,6))\n",
    "colors = sns.color_palette(\"pastel\")[0:3] \n",
    "\n",
    "plt.pie(event_counts, labels=event_counts.index,\n",
    "        autopct='%1.1f%%', startangle=140, colors=colors)\n",
    "\n",
    "plt.title(\"Distribution of Customer Events: View vs Add to Cart vs Transaction\")\n",
    "plt.show()"
   ]
  },
  {
   "cell_type": "markdown",
   "id": "fde23890",
   "metadata": {},
   "source": [
    "The pie chart reveals that 96.2% of customer interactions are product views, while only a small fraction translates into add-to-cart or completed transactions. This suggests a significant drop-off in the customer journey after the viewing stage.\n",
    "\n",
    "Possible explanations include:\n",
    "\n",
    "- Customers may not find the products appealing enough (e.g., poor descriptions, lack of images, irrelevant recommendations).\n",
    "\n",
    "- Prices may not be competitive, discouraging add-to-cart or purchase.\n",
    "\n",
    "- There may be usability barriers (e.g., complex checkout process, hidden costs).\n",
    "\n",
    "Business Implication\n",
    "This indicates a conversion bottleneck. While awareness (views) is strong, the challenge lies in converting this interest into intent (add-to-cart) and final purchases. Addressing product attractiveness, pricing strategy, and user experience could improve conversion rates."
   ]
  },
  {
   "cell_type": "markdown",
   "id": "93704a27",
   "metadata": {},
   "source": [
    "### How much time passes between timestamp_x (property update or listing time) and timestamp_y (customer view/purchase), and does this lag affect conversion?"
   ]
  },
  {
   "cell_type": "code",
   "execution_count": 51,
   "id": "377ef686",
   "metadata": {},
   "outputs": [
    {
     "data": {
      "text/html": [
       "<div>\n",
       "<style scoped>\n",
       "    .dataframe tbody tr th:only-of-type {\n",
       "        vertical-align: middle;\n",
       "    }\n",
       "\n",
       "    .dataframe tbody tr th {\n",
       "        vertical-align: top;\n",
       "    }\n",
       "\n",
       "    .dataframe thead th {\n",
       "        text-align: right;\n",
       "    }\n",
       "</style>\n",
       "<table border=\"1\" class=\"dataframe\">\n",
       "  <thead>\n",
       "    <tr style=\"text-align: right;\">\n",
       "      <th></th>\n",
       "      <th>timestamp_x</th>\n",
       "      <th>itemid</th>\n",
       "      <th>property</th>\n",
       "      <th>decoded_value</th>\n",
       "      <th>timestamp_y</th>\n",
       "      <th>visitorid</th>\n",
       "      <th>event</th>\n",
       "      <th>transactionid</th>\n",
       "      <th>time_lag_hours</th>\n",
       "      <th>time_lag_days</th>\n",
       "    </tr>\n",
       "  </thead>\n",
       "  <tbody>\n",
       "    <tr>\n",
       "      <th>0</th>\n",
       "      <td>2015-05-10 03:53:20</td>\n",
       "      <td>431928</td>\n",
       "      <td>764</td>\n",
       "      <td>NaN</td>\n",
       "      <td>2015-06-06 03:06:40</td>\n",
       "      <td>1144378</td>\n",
       "      <td>view</td>\n",
       "      <td>nan</td>\n",
       "      <td>647.222222</td>\n",
       "      <td>26</td>\n",
       "    </tr>\n",
       "    <tr>\n",
       "      <th>1</th>\n",
       "      <td>2015-05-10 03:53:20</td>\n",
       "      <td>431928</td>\n",
       "      <td>764</td>\n",
       "      <td>NaN</td>\n",
       "      <td>2015-06-06 17:00:00</td>\n",
       "      <td>1128464</td>\n",
       "      <td>view</td>\n",
       "      <td>nan</td>\n",
       "      <td>661.111111</td>\n",
       "      <td>27</td>\n",
       "    </tr>\n",
       "    <tr>\n",
       "      <th>2</th>\n",
       "      <td>2015-05-10 03:53:20</td>\n",
       "      <td>431928</td>\n",
       "      <td>764</td>\n",
       "      <td>NaN</td>\n",
       "      <td>2015-06-07 23:33:20</td>\n",
       "      <td>1156009</td>\n",
       "      <td>view</td>\n",
       "      <td>nan</td>\n",
       "      <td>691.666667</td>\n",
       "      <td>28</td>\n",
       "    </tr>\n",
       "    <tr>\n",
       "      <th>3</th>\n",
       "      <td>2015-05-10 03:53:20</td>\n",
       "      <td>431928</td>\n",
       "      <td>764</td>\n",
       "      <td>NaN</td>\n",
       "      <td>2015-06-07 20:46:40</td>\n",
       "      <td>797613</td>\n",
       "      <td>view</td>\n",
       "      <td>nan</td>\n",
       "      <td>688.888889</td>\n",
       "      <td>28</td>\n",
       "    </tr>\n",
       "    <tr>\n",
       "      <th>4</th>\n",
       "      <td>2015-05-10 03:53:20</td>\n",
       "      <td>431928</td>\n",
       "      <td>764</td>\n",
       "      <td>NaN</td>\n",
       "      <td>2015-06-08 05:06:40</td>\n",
       "      <td>758245</td>\n",
       "      <td>view</td>\n",
       "      <td>nan</td>\n",
       "      <td>697.222222</td>\n",
       "      <td>29</td>\n",
       "    </tr>\n",
       "  </tbody>\n",
       "</table>\n",
       "</div>"
      ],
      "text/plain": [
       "          timestamp_x  itemid property  decoded_value         timestamp_y  \\\n",
       "0 2015-05-10 03:53:20  431928      764            NaN 2015-06-06 03:06:40   \n",
       "1 2015-05-10 03:53:20  431928      764            NaN 2015-06-06 17:00:00   \n",
       "2 2015-05-10 03:53:20  431928      764            NaN 2015-06-07 23:33:20   \n",
       "3 2015-05-10 03:53:20  431928      764            NaN 2015-06-07 20:46:40   \n",
       "4 2015-05-10 03:53:20  431928      764            NaN 2015-06-08 05:06:40   \n",
       "\n",
       "  visitorid event transactionid  time_lag_hours  time_lag_days  \n",
       "0   1144378  view           nan      647.222222             26  \n",
       "1   1128464  view           nan      661.111111             27  \n",
       "2   1156009  view           nan      691.666667             28  \n",
       "3    797613  view           nan      688.888889             28  \n",
       "4    758245  view           nan      697.222222             29  "
      ]
     },
     "execution_count": 51,
     "metadata": {},
     "output_type": "execute_result"
    }
   ],
   "source": [
    "df_props_events['time_lag_days'] = (df_props_events['timestamp_y'] - df_props_events['timestamp_x']).dt.days\n",
    "df_props_events['time_lag_hours'] = (df_props_events['timestamp_y'] - df_props_events['timestamp_x']).dt.total_seconds() / 3600\n",
    "df_props_events.head()"
   ]
  },
  {
   "cell_type": "code",
   "execution_count": 52,
   "id": "cbd6cd42",
   "metadata": {},
   "outputs": [
    {
     "name": "stderr",
     "output_type": "stream",
     "text": [
      "<ipython-input-52-aa5cc49b0a76>:1: FutureWarning: Indexing with multiple keys (implicitly converted to a tuple of keys) will be deprecated, use a list instead.\n",
      "  lag_summary = df_props_events.groupby('event')['time_lag_hours', 'time_lag_days'].mean().reset_index()\n"
     ]
    },
    {
     "data": {
      "text/html": [
       "<div>\n",
       "<style scoped>\n",
       "    .dataframe tbody tr th:only-of-type {\n",
       "        vertical-align: middle;\n",
       "    }\n",
       "\n",
       "    .dataframe tbody tr th {\n",
       "        vertical-align: top;\n",
       "    }\n",
       "\n",
       "    .dataframe thead th {\n",
       "        text-align: right;\n",
       "    }\n",
       "</style>\n",
       "<table border=\"1\" class=\"dataframe\">\n",
       "  <thead>\n",
       "    <tr style=\"text-align: right;\">\n",
       "      <th></th>\n",
       "      <th>event</th>\n",
       "      <th>time_lag_hours</th>\n",
       "      <th>time_lag_days</th>\n",
       "    </tr>\n",
       "  </thead>\n",
       "  <tbody>\n",
       "    <tr>\n",
       "      <th>0</th>\n",
       "      <td>addtocart</td>\n",
       "      <td>281.326330</td>\n",
       "      <td>11.132299</td>\n",
       "    </tr>\n",
       "    <tr>\n",
       "      <th>1</th>\n",
       "      <td>transaction</td>\n",
       "      <td>244.811610</td>\n",
       "      <td>9.581554</td>\n",
       "    </tr>\n",
       "    <tr>\n",
       "      <th>2</th>\n",
       "      <td>view</td>\n",
       "      <td>335.100073</td>\n",
       "      <td>13.379901</td>\n",
       "    </tr>\n",
       "  </tbody>\n",
       "</table>\n",
       "</div>"
      ],
      "text/plain": [
       "         event  time_lag_hours  time_lag_days\n",
       "0    addtocart      281.326330      11.132299\n",
       "1  transaction      244.811610       9.581554\n",
       "2         view      335.100073      13.379901"
      ]
     },
     "execution_count": 52,
     "metadata": {},
     "output_type": "execute_result"
    }
   ],
   "source": [
    "lag_summary = df_props_events.groupby('event')['time_lag_hours', 'time_lag_days'].mean().reset_index()\n",
    "lag_summary"
   ]
  },
  {
   "cell_type": "code",
   "execution_count": 53,
   "id": "2a9dc0ef",
   "metadata": {},
   "outputs": [
    {
     "data": {
      "image/png": "[encoded data removed]",
      "text/plain": [
       "<Figure size 720x432 with 1 Axes>"
      ]
     },
     "metadata": {},
     "output_type": "display_data"
    }
   ],
   "source": [
    "\n",
    "plt.figure(figsize=(10,6))\n",
    "sns.histplot(data=df_props_events, x='time_lag_days', hue='event', kde=True, bins=50)\n",
    "plt.title(\"Distribution of Time Lag between Listing and Customer Interaction\")\n",
    "plt.xlabel(\"Time Lag (days)\")\n",
    "plt.ylabel(\"Frequency\")\n",
    "plt.show()"
   ]
  },
  {
   "cell_type": "markdown",
   "id": "85df753e",
   "metadata": {},
   "source": [
    "### Test Conversion Vrs Lag"
   ]
  },
  {
   "cell_type": "code",
   "execution_count": 54,
   "id": "4ad6dc08",
   "metadata": {},
   "outputs": [],
   "source": [
    "df_props_events['transactionid'] = df_props_events['transactionid'].replace(\"nan\", pd.NA)"
   ]
  },
  {
   "cell_type": "code",
   "execution_count": 56,
   "id": "8ea04b66",
   "metadata": {},
   "outputs": [
    {
     "data": {
      "text/html": [
       "<div>\n",
       "<style scoped>\n",
       "    .dataframe tbody tr th:only-of-type {\n",
       "        vertical-align: middle;\n",
       "    }\n",
       "\n",
       "    .dataframe tbody tr th {\n",
       "        vertical-align: top;\n",
       "    }\n",
       "\n",
       "    .dataframe thead th {\n",
       "        text-align: right;\n",
       "    }\n",
       "</style>\n",
       "<table border=\"1\" class=\"dataframe\">\n",
       "  <thead>\n",
       "    <tr style=\"text-align: right;\">\n",
       "      <th></th>\n",
       "      <th>converted</th>\n",
       "      <th>time_lag_days</th>\n",
       "    </tr>\n",
       "  </thead>\n",
       "  <tbody>\n",
       "    <tr>\n",
       "      <th>0</th>\n",
       "      <td>False</td>\n",
       "      <td>13.315030</td>\n",
       "    </tr>\n",
       "    <tr>\n",
       "      <th>1</th>\n",
       "      <td>True</td>\n",
       "      <td>9.581554</td>\n",
       "    </tr>\n",
       "  </tbody>\n",
       "</table>\n",
       "</div>"
      ],
      "text/plain": [
       "   converted  time_lag_days\n",
       "0      False      13.315030\n",
       "1       True       9.581554"
      ]
     },
     "execution_count": 56,
     "metadata": {},
     "output_type": "execute_result"
    }
   ],
   "source": [
    "df_props_events['converted'] = df_props_events['transactionid'].notnull()\n",
    "\n",
    "conversion_lag = df_props_events.groupby('converted')['time_lag_days'].mean().reset_index()\n",
    "conversion_lag"
   ]
  },
  {
   "cell_type": "code",
   "execution_count": 58,
   "id": "7f44a72f",
   "metadata": {},
   "outputs": [
    {
     "data": {
      "image/png": "[encoded data removed]",
      "text/plain": [
       "<Figure size 720x432 with 1 Axes>"
      ]
     },
     "metadata": {},
     "output_type": "display_data"
    }
   ],
   "source": [
    "# Plot\n",
    "plt.figure(figsize=(10,6))\n",
    "ax = sns.barplot(data=conversion_lag, x='converted', y='time_lag_days', palette='pastel')\n",
    "\n",
    "# Add labels on top of bars\n",
    "for p in ax.patches:\n",
    "    ax.annotate(f\"{p.get_height():.1f}\", \n",
    "                (p.get_x() + p.get_width() / 2., p.get_height()), \n",
    "                ha='center', va='bottom', fontsize=11, color='black', xytext=(0,3), textcoords='offset points')\n",
    "\n",
    "# Titles and labels\n",
    "ax.set_title(\"Average Time Lag (Days) by Conversion Status\", fontsize=14)\n",
    "ax.set_xlabel(\"Converted (True = Purchase, False = No Purchase)\", fontsize=12)\n",
    "# ax.set_ylabel(\"Average Time Lag (Days)\", fontsize=12)\n",
    "\n",
    "plt.show()"
   ]
  },
  {
   "cell_type": "markdown",
   "id": "a7166035",
   "metadata": {},
   "source": [
    "The bar chart shows the average time lag (in days) between product listing/update and customer action, split by whether the product converted (purchase) or not:\n",
    "\n",
    "- Converted (True): On average, items that were purchased had a shorter lag (~9.6 days).\n",
    "\n",
    "- Not Converted (False): Items that never sold lingered longer, with an average lag of ~13.3 days.\n",
    "\n",
    "What It Means\n",
    "- Customers tend to make purchases sooner after a product is listed or updated.\n",
    "\n",
    "- The longer an item sits without being bought, the less likely it is to convert.\n",
    "\n",
    "This suggests that freshness matters — recently updated or newly listed products are more attractive and convert faster.\n",
    "\n",
    "Business Implications\n",
    "- Optimize Time-to-Market: Ensuring products are updated/listed promptly increases their chance of being purchased.\n",
    "\n",
    "- Promotion Strategy: Products with long lags could benefit from price adjustments, marketing, or recommendations to boost visibility.\n",
    "\n",
    "- Inventory Insights: Items that stay too long without selling may be poor performers → candidates for clearance or discontinuation.\n",
    "\n"
   ]
  },
  {
   "cell_type": "markdown",
   "id": "598bb201",
   "metadata": {},
   "source": [
    "### For the same itemid, how often do visitors return to view it within days or weeks after its first appearance in timestamp_y?"
   ]
  },
  {
   "cell_type": "code",
   "execution_count": 59,
   "id": "13dacf13",
   "metadata": {},
   "outputs": [],
   "source": [
    "views = df_props_events[df_props_events['event'] == 'view']"
   ]
  },
  {
   "cell_type": "code",
   "execution_count": 60,
   "id": "7496d4bd",
   "metadata": {},
   "outputs": [],
   "source": [
    "views = views.sort_values(by=['visitorid', 'itemid', 'timestamp_y'])"
   ]
  },
  {
   "cell_type": "code",
   "execution_count": 61,
   "id": "26f5c787",
   "metadata": {},
   "outputs": [],
   "source": [
    "views['time_diff_days'] = views.groupby(['visitorid', 'itemid'])['timestamp_y'].diff().dt.days"
   ]
  },
  {
   "cell_type": "code",
   "execution_count": 62,
   "id": "97ca7761",
   "metadata": {},
   "outputs": [],
   "source": [
    "bins = [0, 1, 7, 30, views['time_diff_days'].max()]\n",
    "labels = ['Same Day', 'Within a Week', 'Within a Month', 'Later']\n",
    "views['return_period'] = pd.cut(views['time_diff_days'], bins=bins, labels=labels, right=True)\n",
    "\n",
    "return_distribution = views['return_period'].value_counts(normalize=True) * 100"
   ]
  },
  {
   "cell_type": "code",
   "execution_count": 66,
   "id": "33d7b421",
   "metadata": {},
   "outputs": [
    {
     "data": {
      "image/png": "[encoded data removed]",
      "text/plain": [
       "<Figure size 504x360 with 1 Axes>"
      ]
     },
     "metadata": {},
     "output_type": "display_data"
    }
   ],
   "source": [
    "plt.figure(figsize=(7,5))\n",
    "ax = sns.barplot(x=return_distribution.index, y=return_distribution.values, palette=\"pastel\")\n",
    "\n",
    "# Add data labels\n",
    "for p in ax.patches:\n",
    "    ax.annotate(f'{p.get_height():.1f}%',  # format with 1 decimal place + %\n",
    "                (p.get_x() + p.get_width() / 2., p.get_height()),\n",
    "                ha='center', va='bottom', fontsize=10, color='black')\n",
    "\n",
    "plt.title(\"Visitor Return Distribution by Timeframe\")\n",
    "plt.xlabel(\"Return Period\")\n",
    "plt.ylabel(\"\")  # remove the y-label\n",
    "plt.show()"
   ]
  },
  {
   "cell_type": "code",
   "execution_count": null,
   "id": "3a36cfc7",
   "metadata": {},
   "outputs": [],
   "source": []
  }
 ],
 "metadata": {
  "kernelspec": {
   "display_name": "Python 3",
   "language": "python",
   "name": "python3"
  },
  "language_info": {
   "codemirror_mode": {
    "name": "ipython",
    "version": 3
   },
   "file_extension": ".py",
   "mimetype": "text/x-python",
   "name": "python",
   "nbconvert_exporter": "python",
   "pygments_lexer": "ipython3",
   "version": "3.8.8"
  }
 },
 "nbformat": 4,
 "nbformat_minor": 5
}
