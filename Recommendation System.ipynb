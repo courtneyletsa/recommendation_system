{
 "cells": [
  {
   "cell_type": "code",
   "execution_count": 1,
   "id": "fce0e352",
   "metadata": {},
   "outputs": [],
   "source": [
    "import pandas as pd\n",
    "import numpy as np\n",
    "import seaborn as sns\n",
    "import matplotlib.pyplot as plt"
   ]
  },
  {
   "cell_type": "code",
   "execution_count": 2,
   "id": "597ca15d",
   "metadata": {},
   "outputs": [
    {
     "data": {
      "text/html": [
       "<div>\n",
       "<style scoped>\n",
       "    .dataframe tbody tr th:only-of-type {\n",
       "        vertical-align: middle;\n",
       "    }\n",
       "\n",
       "    .dataframe tbody tr th {\n",
       "        vertical-align: top;\n",
       "    }\n",
       "\n",
       "    .dataframe thead th {\n",
       "        text-align: right;\n",
       "    }\n",
       "</style>\n",
       "<table border=\"1\" class=\"dataframe\">\n",
       "  <thead>\n",
       "    <tr style=\"text-align: right;\">\n",
       "      <th></th>\n",
       "      <th>timestamp</th>\n",
       "      <th>itemid</th>\n",
       "      <th>property</th>\n",
       "      <th>value</th>\n",
       "    </tr>\n",
       "  </thead>\n",
       "  <tbody>\n",
       "    <tr>\n",
       "      <th>0</th>\n",
       "      <td>1.435460e+12</td>\n",
       "      <td>460429</td>\n",
       "      <td>categoryid</td>\n",
       "      <td>1338</td>\n",
       "    </tr>\n",
       "    <tr>\n",
       "      <th>1</th>\n",
       "      <td>1.441510e+12</td>\n",
       "      <td>206783</td>\n",
       "      <td>888</td>\n",
       "      <td>1116713 960601 n277.200</td>\n",
       "    </tr>\n",
       "    <tr>\n",
       "      <th>2</th>\n",
       "      <td>1.439090e+12</td>\n",
       "      <td>395014</td>\n",
       "      <td>400</td>\n",
       "      <td>n552.000 639502 n720.000 424566</td>\n",
       "    </tr>\n",
       "    <tr>\n",
       "      <th>3</th>\n",
       "      <td>1.431230e+12</td>\n",
       "      <td>59481</td>\n",
       "      <td>790</td>\n",
       "      <td>n15360.000</td>\n",
       "    </tr>\n",
       "    <tr>\n",
       "      <th>4</th>\n",
       "      <td>1.431830e+12</td>\n",
       "      <td>156781</td>\n",
       "      <td>917</td>\n",
       "      <td>828513</td>\n",
       "    </tr>\n",
       "  </tbody>\n",
       "</table>\n",
       "</div>"
      ],
      "text/plain": [
       "      timestamp  itemid    property                            value\n",
       "0  1.435460e+12  460429  categoryid                             1338\n",
       "1  1.441510e+12  206783         888          1116713 960601 n277.200\n",
       "2  1.439090e+12  395014         400  n552.000 639502 n720.000 424566\n",
       "3  1.431230e+12   59481         790                       n15360.000\n",
       "4  1.431830e+12  156781         917                           828513"
      ]
     },
     "execution_count": 2,
     "metadata": {},
     "output_type": "execute_result"
    }
   ],
   "source": [
    "#load data item_proprties_part1 and item_proprties_part2 and concatenate them into one dataset\n",
    "df_item_properties_part1 = pd.read_csv('item_properties_part1.1.csv', index_col=None)\n",
    "df_item_properties_part2 = pd.read_csv('item_properties_part2.csv', index_col=None)\n",
    "df_item_properties = pd.concat([df_item_properties_part1, df_item_properties_part2], ignore_index=True)\n",
    "df_item_properties.head()"
   ]
  },
  {
   "cell_type": "code",
   "execution_count": 3,
   "id": "40c62fe1",
   "metadata": {},
   "outputs": [
    {
     "data": {
      "text/html": [
       "<div>\n",
       "<style scoped>\n",
       "    .dataframe tbody tr th:only-of-type {\n",
       "        vertical-align: middle;\n",
       "    }\n",
       "\n",
       "    .dataframe tbody tr th {\n",
       "        vertical-align: top;\n",
       "    }\n",
       "\n",
       "    .dataframe thead th {\n",
       "        text-align: right;\n",
       "    }\n",
       "</style>\n",
       "<table border=\"1\" class=\"dataframe\">\n",
       "  <thead>\n",
       "    <tr style=\"text-align: right;\">\n",
       "      <th></th>\n",
       "      <th>timestamp</th>\n",
       "      <th>visitorid</th>\n",
       "      <th>event</th>\n",
       "      <th>itemid</th>\n",
       "      <th>transactionid</th>\n",
       "    </tr>\n",
       "  </thead>\n",
       "  <tbody>\n",
       "    <tr>\n",
       "      <th>0</th>\n",
       "      <td>1.433220e+12</td>\n",
       "      <td>257597</td>\n",
       "      <td>view</td>\n",
       "      <td>355908</td>\n",
       "      <td>NaN</td>\n",
       "    </tr>\n",
       "    <tr>\n",
       "      <th>1</th>\n",
       "      <td>1.433220e+12</td>\n",
       "      <td>992329</td>\n",
       "      <td>view</td>\n",
       "      <td>248676</td>\n",
       "      <td>NaN</td>\n",
       "    </tr>\n",
       "    <tr>\n",
       "      <th>2</th>\n",
       "      <td>1.433220e+12</td>\n",
       "      <td>111016</td>\n",
       "      <td>view</td>\n",
       "      <td>318965</td>\n",
       "      <td>NaN</td>\n",
       "    </tr>\n",
       "    <tr>\n",
       "      <th>3</th>\n",
       "      <td>1.433220e+12</td>\n",
       "      <td>483717</td>\n",
       "      <td>view</td>\n",
       "      <td>253185</td>\n",
       "      <td>NaN</td>\n",
       "    </tr>\n",
       "    <tr>\n",
       "      <th>4</th>\n",
       "      <td>1.433220e+12</td>\n",
       "      <td>951259</td>\n",
       "      <td>view</td>\n",
       "      <td>367447</td>\n",
       "      <td>NaN</td>\n",
       "    </tr>\n",
       "  </tbody>\n",
       "</table>\n",
       "</div>"
      ],
      "text/plain": [
       "      timestamp  visitorid event  itemid  transactionid\n",
       "0  1.433220e+12     257597  view  355908            NaN\n",
       "1  1.433220e+12     992329  view  248676            NaN\n",
       "2  1.433220e+12     111016  view  318965            NaN\n",
       "3  1.433220e+12     483717  view  253185            NaN\n",
       "4  1.433220e+12     951259  view  367447            NaN"
      ]
     },
     "execution_count": 3,
     "metadata": {},
     "output_type": "execute_result"
    }
   ],
   "source": [
    "# load behaviour events dataset\n",
    "df_events = pd.read_csv('events.csv', index_col=None)\n",
    "df_events.head()"
   ]
  },
  {
   "cell_type": "code",
   "execution_count": 4,
   "id": "61c1e344",
   "metadata": {},
   "outputs": [
    {
     "data": {
      "text/html": [
       "<div>\n",
       "<style scoped>\n",
       "    .dataframe tbody tr th:only-of-type {\n",
       "        vertical-align: middle;\n",
       "    }\n",
       "\n",
       "    .dataframe tbody tr th {\n",
       "        vertical-align: top;\n",
       "    }\n",
       "\n",
       "    .dataframe thead th {\n",
       "        text-align: right;\n",
       "    }\n",
       "</style>\n",
       "<table border=\"1\" class=\"dataframe\">\n",
       "  <thead>\n",
       "    <tr style=\"text-align: right;\">\n",
       "      <th></th>\n",
       "      <th>categoryid</th>\n",
       "      <th>parentid</th>\n",
       "    </tr>\n",
       "  </thead>\n",
       "  <tbody>\n",
       "    <tr>\n",
       "      <th>0</th>\n",
       "      <td>1016</td>\n",
       "      <td>213.0</td>\n",
       "    </tr>\n",
       "    <tr>\n",
       "      <th>1</th>\n",
       "      <td>809</td>\n",
       "      <td>169.0</td>\n",
       "    </tr>\n",
       "    <tr>\n",
       "      <th>2</th>\n",
       "      <td>570</td>\n",
       "      <td>9.0</td>\n",
       "    </tr>\n",
       "    <tr>\n",
       "      <th>3</th>\n",
       "      <td>1691</td>\n",
       "      <td>885.0</td>\n",
       "    </tr>\n",
       "    <tr>\n",
       "      <th>4</th>\n",
       "      <td>536</td>\n",
       "      <td>1691.0</td>\n",
       "    </tr>\n",
       "  </tbody>\n",
       "</table>\n",
       "</div>"
      ],
      "text/plain": [
       "   categoryid  parentid\n",
       "0        1016     213.0\n",
       "1         809     169.0\n",
       "2         570       9.0\n",
       "3        1691     885.0\n",
       "4         536    1691.0"
      ]
     },
     "execution_count": 4,
     "metadata": {},
     "output_type": "execute_result"
    }
   ],
   "source": [
    "# load category tree dataset\n",
    "df_category_tree = pd.read_csv('category_tree.csv')\n",
    "df_category_tree.head()"
   ]
  },
  {
   "cell_type": "code",
   "execution_count": 5,
   "id": "681c7d48",
   "metadata": {},
   "outputs": [
    {
     "data": {
      "text/plain": [
       "(2097150, 4)"
      ]
     },
     "execution_count": 5,
     "metadata": {},
     "output_type": "execute_result"
    }
   ],
   "source": [
    "#shape of the data sets\n",
    "df_item_properties.shape"
   ]
  },
  {
   "cell_type": "code",
   "execution_count": 6,
   "id": "807bf5c8",
   "metadata": {},
   "outputs": [
    {
     "data": {
      "text/plain": [
       "(1048575, 5)"
      ]
     },
     "execution_count": 6,
     "metadata": {},
     "output_type": "execute_result"
    }
   ],
   "source": [
    "df_events.shape"
   ]
  },
  {
   "cell_type": "code",
   "execution_count": 7,
   "id": "b5107d0e",
   "metadata": {},
   "outputs": [
    {
     "data": {
      "text/plain": [
       "(1669, 2)"
      ]
     },
     "execution_count": 7,
     "metadata": {},
     "output_type": "execute_result"
    }
   ],
   "source": [
    "df_category_tree.shape"
   ]
  },
  {
   "cell_type": "code",
   "execution_count": 8,
   "id": "0413db1c",
   "metadata": {},
   "outputs": [
    {
     "name": "stdout",
     "output_type": "stream",
     "text": [
      "<class 'pandas.core.frame.DataFrame'>\n",
      "RangeIndex: 2097150 entries, 0 to 2097149\n",
      "Data columns (total 4 columns):\n",
      " #   Column     Dtype  \n",
      "---  ------     -----  \n",
      " 0   timestamp  float64\n",
      " 1   itemid     int64  \n",
      " 2   property   object \n",
      " 3   value      object \n",
      "dtypes: float64(1), int64(1), object(2)\n",
      "memory usage: 64.0+ MB\n"
     ]
    }
   ],
   "source": [
    "#data types of the datasets\n",
    "df_item_properties.info()"
   ]
  },
  {
   "cell_type": "code",
   "execution_count": 9,
   "id": "b6f1832d",
   "metadata": {},
   "outputs": [
    {
     "name": "stdout",
     "output_type": "stream",
     "text": [
      "<class 'pandas.core.frame.DataFrame'>\n",
      "RangeIndex: 1048575 entries, 0 to 1048574\n",
      "Data columns (total 5 columns):\n",
      " #   Column         Non-Null Count    Dtype  \n",
      "---  ------         --------------    -----  \n",
      " 0   timestamp      1048575 non-null  float64\n",
      " 1   visitorid      1048575 non-null  int64  \n",
      " 2   event          1048575 non-null  object \n",
      " 3   itemid         1048575 non-null  int64  \n",
      " 4   transactionid  8654 non-null     float64\n",
      "dtypes: float64(2), int64(2), object(1)\n",
      "memory usage: 40.0+ MB\n"
     ]
    }
   ],
   "source": [
    "df_events.info()"
   ]
  },
  {
   "cell_type": "code",
   "execution_count": 10,
   "id": "7db5e5eb",
   "metadata": {},
   "outputs": [
    {
     "name": "stdout",
     "output_type": "stream",
     "text": [
      "<class 'pandas.core.frame.DataFrame'>\n",
      "RangeIndex: 1669 entries, 0 to 1668\n",
      "Data columns (total 2 columns):\n",
      " #   Column      Non-Null Count  Dtype  \n",
      "---  ------      --------------  -----  \n",
      " 0   categoryid  1669 non-null   int64  \n",
      " 1   parentid    1644 non-null   float64\n",
      "dtypes: float64(1), int64(1)\n",
      "memory usage: 26.2 KB\n"
     ]
    }
   ],
   "source": [
    "df_category_tree.info()"
   ]
  },
  {
   "cell_type": "code",
   "execution_count": null,
   "id": "e274fd8a",
   "metadata": {},
   "outputs": [],
   "source": []
  },
  {
   "cell_type": "markdown",
   "id": "a25befe6",
   "metadata": {},
   "source": [
    "### Merge the 3 datasets"
   ]
  },
  {
   "cell_type": "code",
   "execution_count": 11,
   "id": "7ae1cebb",
   "metadata": {},
   "outputs": [],
   "source": [
    "# merging df_events and df_item_prperties"
   ]
  },
  {
   "cell_type": "code",
   "execution_count": 12,
   "id": "e404b6d3",
   "metadata": {},
   "outputs": [],
   "source": [
    "df_events_props = pd.merge(\n",
    "    df_events, \n",
    "    df_item_properties, \n",
    "    on='itemid', \n",
    "    how='left'\n",
    ")"
   ]
  },
  {
   "cell_type": "code",
   "execution_count": 13,
   "id": "df7905b4",
   "metadata": {},
   "outputs": [],
   "source": [
    "# merging category tree with the fist merge"
   ]
  },
  {
   "cell_type": "code",
   "execution_count": 14,
   "id": "a8686cb5",
   "metadata": {},
   "outputs": [],
   "source": [
    "# Filter only category rows\n",
    "df_categories = df_item_properties[df_item_properties['property'] == 'categoryid']\n",
    "df_categories = df_categories[['itemid', 'value']].rename(columns={'value': 'categoryid'})"
   ]
  },
  {
   "cell_type": "code",
   "execution_count": 15,
   "id": "ae133b77",
   "metadata": {},
   "outputs": [],
   "source": [
    "# Convert categoryid to numeric for joining\n",
    "df_categories['categoryid'] = pd.to_numeric(df_categories['categoryid'], errors='coerce')"
   ]
  },
  {
   "cell_type": "code",
   "execution_count": 16,
   "id": "1232f89e",
   "metadata": {},
   "outputs": [],
   "source": [
    "# Merge category IDs into merged events/properties\n",
    "df_events_props_categories = pd.merge(\n",
    "    df_events_props,\n",
    "    df_categories[['itemid', 'categoryid']],\n",
    "    on='itemid',\n",
    "    how='left'\n",
    ")"
   ]
  },
  {
   "cell_type": "code",
   "execution_count": 17,
   "id": "de6c9454",
   "metadata": {},
   "outputs": [],
   "source": [
    "# Merge with category tree\n",
    "df_events_props_tree = pd.merge(\n",
    "    df_events_props_categories,\n",
    "    df_category_tree,\n",
    "    on='categoryid',\n",
    "    how='left'\n",
    ")"
   ]
  },
  {
   "cell_type": "code",
   "execution_count": 18,
   "id": "8da80772",
   "metadata": {},
   "outputs": [
    {
     "data": {
      "text/html": [
       "<div>\n",
       "<style scoped>\n",
       "    .dataframe tbody tr th:only-of-type {\n",
       "        vertical-align: middle;\n",
       "    }\n",
       "\n",
       "    .dataframe tbody tr th {\n",
       "        vertical-align: top;\n",
       "    }\n",
       "\n",
       "    .dataframe thead th {\n",
       "        text-align: right;\n",
       "    }\n",
       "</style>\n",
       "<table border=\"1\" class=\"dataframe\">\n",
       "  <thead>\n",
       "    <tr style=\"text-align: right;\">\n",
       "      <th></th>\n",
       "      <th>timestamp_x</th>\n",
       "      <th>visitorid</th>\n",
       "      <th>event</th>\n",
       "      <th>itemid</th>\n",
       "      <th>transactionid</th>\n",
       "      <th>timestamp_y</th>\n",
       "      <th>property</th>\n",
       "      <th>value</th>\n",
       "      <th>categoryid</th>\n",
       "      <th>parentid</th>\n",
       "    </tr>\n",
       "  </thead>\n",
       "  <tbody>\n",
       "    <tr>\n",
       "      <th>0</th>\n",
       "      <td>1.433220e+12</td>\n",
       "      <td>257597</td>\n",
       "      <td>view</td>\n",
       "      <td>355908</td>\n",
       "      <td>NaN</td>\n",
       "      <td>1.431830e+12</td>\n",
       "      <td>159</td>\n",
       "      <td>519769</td>\n",
       "      <td>NaN</td>\n",
       "      <td>NaN</td>\n",
       "    </tr>\n",
       "    <tr>\n",
       "      <th>1</th>\n",
       "      <td>1.433220e+12</td>\n",
       "      <td>257597</td>\n",
       "      <td>view</td>\n",
       "      <td>355908</td>\n",
       "      <td>NaN</td>\n",
       "      <td>1.431830e+12</td>\n",
       "      <td>available</td>\n",
       "      <td>1</td>\n",
       "      <td>NaN</td>\n",
       "      <td>NaN</td>\n",
       "    </tr>\n",
       "    <tr>\n",
       "      <th>2</th>\n",
       "      <td>1.433220e+12</td>\n",
       "      <td>257597</td>\n",
       "      <td>view</td>\n",
       "      <td>355908</td>\n",
       "      <td>NaN</td>\n",
       "      <td>1.440900e+12</td>\n",
       "      <td>available</td>\n",
       "      <td>1</td>\n",
       "      <td>NaN</td>\n",
       "      <td>NaN</td>\n",
       "    </tr>\n",
       "    <tr>\n",
       "      <th>3</th>\n",
       "      <td>1.433220e+12</td>\n",
       "      <td>257597</td>\n",
       "      <td>view</td>\n",
       "      <td>355908</td>\n",
       "      <td>NaN</td>\n",
       "      <td>1.436070e+12</td>\n",
       "      <td>available</td>\n",
       "      <td>1</td>\n",
       "      <td>NaN</td>\n",
       "      <td>NaN</td>\n",
       "    </tr>\n",
       "    <tr>\n",
       "      <th>4</th>\n",
       "      <td>1.433220e+12</td>\n",
       "      <td>257597</td>\n",
       "      <td>view</td>\n",
       "      <td>355908</td>\n",
       "      <td>NaN</td>\n",
       "      <td>1.437880e+12</td>\n",
       "      <td>available</td>\n",
       "      <td>1</td>\n",
       "      <td>NaN</td>\n",
       "      <td>NaN</td>\n",
       "    </tr>\n",
       "  </tbody>\n",
       "</table>\n",
       "</div>"
      ],
      "text/plain": [
       "    timestamp_x  visitorid event  itemid  transactionid   timestamp_y  \\\n",
       "0  1.433220e+12     257597  view  355908            NaN  1.431830e+12   \n",
       "1  1.433220e+12     257597  view  355908            NaN  1.431830e+12   \n",
       "2  1.433220e+12     257597  view  355908            NaN  1.440900e+12   \n",
       "3  1.433220e+12     257597  view  355908            NaN  1.436070e+12   \n",
       "4  1.433220e+12     257597  view  355908            NaN  1.437880e+12   \n",
       "\n",
       "    property   value  categoryid  parentid  \n",
       "0        159  519769         NaN       NaN  \n",
       "1  available       1         NaN       NaN  \n",
       "2  available       1         NaN       NaN  \n",
       "3  available       1         NaN       NaN  \n",
       "4  available       1         NaN       NaN  "
      ]
     },
     "execution_count": 18,
     "metadata": {},
     "output_type": "execute_result"
    }
   ],
   "source": [
    "# renaming the final dataset to df\n",
    "df = df_events_props_tree\n",
    "df.head()"
   ]
  },
  {
   "cell_type": "code",
   "execution_count": 19,
   "id": "b21168ee",
   "metadata": {},
   "outputs": [
    {
     "data": {
      "text/plain": [
       "(8056483, 10)"
      ]
     },
     "execution_count": 19,
     "metadata": {},
     "output_type": "execute_result"
    }
   ],
   "source": [
    "df.shape"
   ]
  },
  {
   "cell_type": "code",
   "execution_count": 20,
   "id": "16b7c6ae",
   "metadata": {},
   "outputs": [
    {
     "name": "stdout",
     "output_type": "stream",
     "text": [
      "<class 'pandas.core.frame.DataFrame'>\n",
      "Int64Index: 8056483 entries, 0 to 8056482\n",
      "Data columns (total 10 columns):\n",
      " #   Column         Dtype  \n",
      "---  ------         -----  \n",
      " 0   timestamp_x    float64\n",
      " 1   visitorid      int64  \n",
      " 2   event          object \n",
      " 3   itemid         int64  \n",
      " 4   transactionid  float64\n",
      " 5   timestamp_y    float64\n",
      " 6   property       object \n",
      " 7   value          object \n",
      " 8   categoryid     float64\n",
      " 9   parentid       float64\n",
      "dtypes: float64(5), int64(2), object(3)\n",
      "memory usage: 676.1+ MB\n"
     ]
    }
   ],
   "source": [
    "df.info()"
   ]
  },
  {
   "cell_type": "markdown",
   "id": "d256c8c7",
   "metadata": {},
   "source": [
    "### Convert timestamps to human readable format"
   ]
  },
  {
   "cell_type": "code",
   "execution_count": 21,
   "id": "ea9272b9",
   "metadata": {},
   "outputs": [
    {
     "data": {
      "text/html": [
       "<div>\n",
       "<style scoped>\n",
       "    .dataframe tbody tr th:only-of-type {\n",
       "        vertical-align: middle;\n",
       "    }\n",
       "\n",
       "    .dataframe tbody tr th {\n",
       "        vertical-align: top;\n",
       "    }\n",
       "\n",
       "    .dataframe thead th {\n",
       "        text-align: right;\n",
       "    }\n",
       "</style>\n",
       "<table border=\"1\" class=\"dataframe\">\n",
       "  <thead>\n",
       "    <tr style=\"text-align: right;\">\n",
       "      <th></th>\n",
       "      <th>timestamp_x</th>\n",
       "      <th>visitorid</th>\n",
       "      <th>event</th>\n",
       "      <th>itemid</th>\n",
       "      <th>transactionid</th>\n",
       "      <th>timestamp_y</th>\n",
       "      <th>property</th>\n",
       "      <th>value</th>\n",
       "      <th>categoryid</th>\n",
       "      <th>parentid</th>\n",
       "    </tr>\n",
       "  </thead>\n",
       "  <tbody>\n",
       "    <tr>\n",
       "      <th>0</th>\n",
       "      <td>2015-06-02 04:40:00</td>\n",
       "      <td>257597</td>\n",
       "      <td>view</td>\n",
       "      <td>355908</td>\n",
       "      <td>NaN</td>\n",
       "      <td>2015-05-17 02:33:20</td>\n",
       "      <td>159</td>\n",
       "      <td>519769</td>\n",
       "      <td>NaN</td>\n",
       "      <td>NaN</td>\n",
       "    </tr>\n",
       "    <tr>\n",
       "      <th>1</th>\n",
       "      <td>2015-06-02 04:40:00</td>\n",
       "      <td>257597</td>\n",
       "      <td>view</td>\n",
       "      <td>355908</td>\n",
       "      <td>NaN</td>\n",
       "      <td>2015-05-17 02:33:20</td>\n",
       "      <td>available</td>\n",
       "      <td>1</td>\n",
       "      <td>NaN</td>\n",
       "      <td>NaN</td>\n",
       "    </tr>\n",
       "    <tr>\n",
       "      <th>2</th>\n",
       "      <td>2015-06-02 04:40:00</td>\n",
       "      <td>257597</td>\n",
       "      <td>view</td>\n",
       "      <td>355908</td>\n",
       "      <td>NaN</td>\n",
       "      <td>2015-08-30 02:00:00</td>\n",
       "      <td>available</td>\n",
       "      <td>1</td>\n",
       "      <td>NaN</td>\n",
       "      <td>NaN</td>\n",
       "    </tr>\n",
       "    <tr>\n",
       "      <th>3</th>\n",
       "      <td>2015-06-02 04:40:00</td>\n",
       "      <td>257597</td>\n",
       "      <td>view</td>\n",
       "      <td>355908</td>\n",
       "      <td>NaN</td>\n",
       "      <td>2015-07-05 04:20:00</td>\n",
       "      <td>available</td>\n",
       "      <td>1</td>\n",
       "      <td>NaN</td>\n",
       "      <td>NaN</td>\n",
       "    </tr>\n",
       "    <tr>\n",
       "      <th>4</th>\n",
       "      <td>2015-06-02 04:40:00</td>\n",
       "      <td>257597</td>\n",
       "      <td>view</td>\n",
       "      <td>355908</td>\n",
       "      <td>NaN</td>\n",
       "      <td>2015-07-26 03:06:40</td>\n",
       "      <td>available</td>\n",
       "      <td>1</td>\n",
       "      <td>NaN</td>\n",
       "      <td>NaN</td>\n",
       "    </tr>\n",
       "  </tbody>\n",
       "</table>\n",
       "</div>"
      ],
      "text/plain": [
       "          timestamp_x  visitorid event  itemid  transactionid  \\\n",
       "0 2015-06-02 04:40:00     257597  view  355908            NaN   \n",
       "1 2015-06-02 04:40:00     257597  view  355908            NaN   \n",
       "2 2015-06-02 04:40:00     257597  view  355908            NaN   \n",
       "3 2015-06-02 04:40:00     257597  view  355908            NaN   \n",
       "4 2015-06-02 04:40:00     257597  view  355908            NaN   \n",
       "\n",
       "          timestamp_y   property   value  categoryid  parentid  \n",
       "0 2015-05-17 02:33:20        159  519769         NaN       NaN  \n",
       "1 2015-05-17 02:33:20  available       1         NaN       NaN  \n",
       "2 2015-08-30 02:00:00  available       1         NaN       NaN  \n",
       "3 2015-07-05 04:20:00  available       1         NaN       NaN  \n",
       "4 2015-07-26 03:06:40  available       1         NaN       NaN  "
      ]
     },
     "execution_count": 21,
     "metadata": {},
     "output_type": "execute_result"
    }
   ],
   "source": [
    "df['timestamp_x'] = pd.to_datetime(df['timestamp_x'] / 1000, unit='s')\n",
    "df['timestamp_y'] = pd.to_datetime(df['timestamp_y'] / 1000, unit='s')\n",
    "df.head()"
   ]
  },
  {
   "cell_type": "code",
   "execution_count": 22,
   "id": "aaea4ea0",
   "metadata": {},
   "outputs": [
    {
     "name": "stdout",
     "output_type": "stream",
     "text": [
      "<class 'pandas.core.frame.DataFrame'>\n",
      "Int64Index: 8056483 entries, 0 to 8056482\n",
      "Data columns (total 10 columns):\n",
      " #   Column         Dtype         \n",
      "---  ------         -----         \n",
      " 0   timestamp_x    datetime64[ns]\n",
      " 1   visitorid      int64         \n",
      " 2   event          object        \n",
      " 3   itemid         int64         \n",
      " 4   transactionid  float64       \n",
      " 5   timestamp_y    datetime64[ns]\n",
      " 6   property       object        \n",
      " 7   value          object        \n",
      " 8   categoryid     float64       \n",
      " 9   parentid       float64       \n",
      "dtypes: datetime64[ns](2), float64(3), int64(2), object(3)\n",
      "memory usage: 676.1+ MB\n"
     ]
    }
   ],
   "source": [
    "df.info()"
   ]
  },
  {
   "cell_type": "code",
   "execution_count": 23,
   "id": "f2c64be1",
   "metadata": {},
   "outputs": [
    {
     "data": {
      "text/plain": [
       "timestamp_x            0\n",
       "visitorid              0\n",
       "event                  0\n",
       "itemid                 0\n",
       "transactionid    7983312\n",
       "timestamp_y       120673\n",
       "property          120673\n",
       "value             120673\n",
       "categoryid       5755095\n",
       "parentid         5755270\n",
       "dtype: int64"
      ]
     },
     "execution_count": 23,
     "metadata": {},
     "output_type": "execute_result"
    }
   ],
   "source": [
    "df.isna().sum()"
   ]
  },
  {
   "cell_type": "code",
   "execution_count": 24,
   "id": "cd737ba3",
   "metadata": {},
   "outputs": [],
   "source": [
    "def clean_item_properties(df):\n",
    "    \"\"\"\n",
    "    Cleans merged dataset by:\n",
    "    1. Forward filling missing property/value within each itemid.\n",
    "    \"\"\"\n",
    "    # Forward fill property and value within each item\n",
    "    df[['property', 'value']] = (\n",
    "        df.groupby('itemid')[['property', 'value']]\n",
    "        .ffill()\n",
    "        .bfill()  # also backfill if the first rows are NaN\n",
    "    )    \n",
    "    \n",
    "    return df\n",
    "df = clean_item_properties(df)"
   ]
  },
  {
   "cell_type": "code",
   "execution_count": 25,
   "id": "32be02e2",
   "metadata": {},
   "outputs": [
    {
     "data": {
      "text/html": [
       "<div>\n",
       "<style scoped>\n",
       "    .dataframe tbody tr th:only-of-type {\n",
       "        vertical-align: middle;\n",
       "    }\n",
       "\n",
       "    .dataframe tbody tr th {\n",
       "        vertical-align: top;\n",
       "    }\n",
       "\n",
       "    .dataframe thead th {\n",
       "        text-align: right;\n",
       "    }\n",
       "</style>\n",
       "<table border=\"1\" class=\"dataframe\">\n",
       "  <thead>\n",
       "    <tr style=\"text-align: right;\">\n",
       "      <th></th>\n",
       "      <th>timestamp_x</th>\n",
       "      <th>visitorid</th>\n",
       "      <th>event</th>\n",
       "      <th>itemid</th>\n",
       "      <th>transactionid</th>\n",
       "      <th>timestamp_y</th>\n",
       "      <th>property</th>\n",
       "      <th>value</th>\n",
       "      <th>categoryid</th>\n",
       "      <th>parentid</th>\n",
       "    </tr>\n",
       "  </thead>\n",
       "  <tbody>\n",
       "    <tr>\n",
       "      <th>0</th>\n",
       "      <td>2015-06-02 04:40:00</td>\n",
       "      <td>257597</td>\n",
       "      <td>view</td>\n",
       "      <td>355908</td>\n",
       "      <td>NaN</td>\n",
       "      <td>2015-05-17 02:33:20</td>\n",
       "      <td>159</td>\n",
       "      <td>519769</td>\n",
       "      <td>NaN</td>\n",
       "      <td>NaN</td>\n",
       "    </tr>\n",
       "    <tr>\n",
       "      <th>1</th>\n",
       "      <td>2015-06-02 04:40:00</td>\n",
       "      <td>257597</td>\n",
       "      <td>view</td>\n",
       "      <td>355908</td>\n",
       "      <td>NaN</td>\n",
       "      <td>2015-05-17 02:33:20</td>\n",
       "      <td>available</td>\n",
       "      <td>1</td>\n",
       "      <td>NaN</td>\n",
       "      <td>NaN</td>\n",
       "    </tr>\n",
       "    <tr>\n",
       "      <th>2</th>\n",
       "      <td>2015-06-02 04:40:00</td>\n",
       "      <td>257597</td>\n",
       "      <td>view</td>\n",
       "      <td>355908</td>\n",
       "      <td>NaN</td>\n",
       "      <td>2015-08-30 02:00:00</td>\n",
       "      <td>available</td>\n",
       "      <td>1</td>\n",
       "      <td>NaN</td>\n",
       "      <td>NaN</td>\n",
       "    </tr>\n",
       "    <tr>\n",
       "      <th>3</th>\n",
       "      <td>2015-06-02 04:40:00</td>\n",
       "      <td>257597</td>\n",
       "      <td>view</td>\n",
       "      <td>355908</td>\n",
       "      <td>NaN</td>\n",
       "      <td>2015-07-05 04:20:00</td>\n",
       "      <td>available</td>\n",
       "      <td>1</td>\n",
       "      <td>NaN</td>\n",
       "      <td>NaN</td>\n",
       "    </tr>\n",
       "    <tr>\n",
       "      <th>4</th>\n",
       "      <td>2015-06-02 04:40:00</td>\n",
       "      <td>257597</td>\n",
       "      <td>view</td>\n",
       "      <td>355908</td>\n",
       "      <td>NaN</td>\n",
       "      <td>2015-07-26 03:06:40</td>\n",
       "      <td>available</td>\n",
       "      <td>1</td>\n",
       "      <td>NaN</td>\n",
       "      <td>NaN</td>\n",
       "    </tr>\n",
       "  </tbody>\n",
       "</table>\n",
       "</div>"
      ],
      "text/plain": [
       "          timestamp_x  visitorid event  itemid  transactionid  \\\n",
       "0 2015-06-02 04:40:00     257597  view  355908            NaN   \n",
       "1 2015-06-02 04:40:00     257597  view  355908            NaN   \n",
       "2 2015-06-02 04:40:00     257597  view  355908            NaN   \n",
       "3 2015-06-02 04:40:00     257597  view  355908            NaN   \n",
       "4 2015-06-02 04:40:00     257597  view  355908            NaN   \n",
       "\n",
       "          timestamp_y   property   value  categoryid  parentid  \n",
       "0 2015-05-17 02:33:20        159  519769         NaN       NaN  \n",
       "1 2015-05-17 02:33:20  available       1         NaN       NaN  \n",
       "2 2015-08-30 02:00:00  available       1         NaN       NaN  \n",
       "3 2015-07-05 04:20:00  available       1         NaN       NaN  \n",
       "4 2015-07-26 03:06:40  available       1         NaN       NaN  "
      ]
     },
     "execution_count": 25,
     "metadata": {},
     "output_type": "execute_result"
    }
   ],
   "source": [
    "df.head()"
   ]
  },
  {
   "cell_type": "code",
   "execution_count": 26,
   "id": "2799f0fa",
   "metadata": {},
   "outputs": [
    {
     "data": {
      "text/plain": [
       "timestamp_x            0\n",
       "visitorid              0\n",
       "event                  0\n",
       "itemid                 0\n",
       "transactionid    7983312\n",
       "timestamp_y       120673\n",
       "property               0\n",
       "value                  0\n",
       "categoryid       5755095\n",
       "parentid         5755270\n",
       "dtype: int64"
      ]
     },
     "execution_count": 26,
     "metadata": {},
     "output_type": "execute_result"
    }
   ],
   "source": [
    "df.isna().sum()"
   ]
  },
  {
   "cell_type": "code",
   "execution_count": null,
   "id": "1739acfb",
   "metadata": {},
   "outputs": [],
   "source": []
  },
  {
   "cell_type": "code",
   "execution_count": null,
   "id": "82ba8095",
   "metadata": {},
   "outputs": [],
   "source": []
  }
 ],
 "metadata": {
  "kernelspec": {
   "display_name": "Python 3",
   "language": "python",
   "name": "python3"
  },
  "language_info": {
   "codemirror_mode": {
    "name": "ipython",
    "version": 3
   },
   "file_extension": ".py",
   "mimetype": "text/x-python",
   "name": "python",
   "nbconvert_exporter": "python",
   "pygments_lexer": "ipython3",
   "version": "3.8.8"
  }
 },
 "nbformat": 4,
 "nbformat_minor": 5
}
